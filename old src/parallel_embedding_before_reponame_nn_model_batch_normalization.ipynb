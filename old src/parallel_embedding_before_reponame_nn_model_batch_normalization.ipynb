{
 "cells": [
  {
   "cell_type": "code",
   "execution_count": 1,
   "id": "6b20cf53",
   "metadata": {},
   "outputs": [
    {
     "name": "stdout",
     "output_type": "stream",
     "text": [
      "labels\n",
      "bug            17934\n",
      "enhancement    16113\n",
      "clean          15336\n",
      "performance     5332\n",
      "refactor        3320\n",
      "Name: count, dtype: int64\n",
      "labels\n",
      "enhancement    15300\n",
      "bug            15300\n",
      "clean          15300\n",
      "Name: count, dtype: int64\n"
     ]
    },
    {
     "data": {
      "text/html": [
       "<div>\n",
       "<style scoped>\n",
       "    .dataframe tbody tr th:only-of-type {\n",
       "        vertical-align: middle;\n",
       "    }\n",
       "\n",
       "    .dataframe tbody tr th {\n",
       "        vertical-align: top;\n",
       "    }\n",
       "\n",
       "    .dataframe thead th {\n",
       "        text-align: right;\n",
       "    }\n",
       "</style>\n",
       "<table border=\"1\" class=\"dataframe\">\n",
       "  <thead>\n",
       "    <tr style=\"text-align: right;\">\n",
       "      <th></th>\n",
       "      <th>full_repo_name</th>\n",
       "      <th>labels</th>\n",
       "      <th>patch</th>\n",
       "      <th>index</th>\n",
       "    </tr>\n",
       "  </thead>\n",
       "  <tbody>\n",
       "    <tr>\n",
       "      <th>16780</th>\n",
       "      <td>apache/skywalking</td>\n",
       "      <td>enhancement</td>\n",
       "      <td>@@ -142,4 +142,13 @@ public class StorageModul...</td>\n",
       "      <td>16780</td>\n",
       "    </tr>\n",
       "    <tr>\n",
       "      <th>17669</th>\n",
       "      <td>apache/skywalking</td>\n",
       "      <td>enhancement</td>\n",
       "      <td>@@ -21,6 +21,7 @@\\n import java.util.Map;\\n im...</td>\n",
       "      <td>17669</td>\n",
       "    </tr>\n",
       "    <tr>\n",
       "      <th>39739</th>\n",
       "      <td>apache/netbeans</td>\n",
       "      <td>enhancement</td>\n",
       "      <td>@@ -19,9 +19,8 @@\\n package org.netbeans.modul...</td>\n",
       "      <td>39739</td>\n",
       "    </tr>\n",
       "    <tr>\n",
       "      <th>5509</th>\n",
       "      <td>apache/myfaces-tobago</td>\n",
       "      <td>enhancement</td>\n",
       "      <td>@@ -26,6 +26,7 @@\\n \\n import jakarta.faces.co...</td>\n",
       "      <td>5509</td>\n",
       "    </tr>\n",
       "    <tr>\n",
       "      <th>3099</th>\n",
       "      <td>apache/cloudstack</td>\n",
       "      <td>enhancement</td>\n",
       "      <td>@@ -42,14 +42,18 @@ public final class Libvirt...</td>\n",
       "      <td>3099</td>\n",
       "    </tr>\n",
       "    <tr>\n",
       "      <th>...</th>\n",
       "      <td>...</td>\n",
       "      <td>...</td>\n",
       "      <td>...</td>\n",
       "      <td>...</td>\n",
       "    </tr>\n",
       "    <tr>\n",
       "      <th>28870</th>\n",
       "      <td>apache/bookkeeper</td>\n",
       "      <td>clean</td>\n",
       "      <td>@@ -245,6 +245,7 @@ void unsetSuccessAndSendWr...</td>\n",
       "      <td>28870</td>\n",
       "    </tr>\n",
       "    <tr>\n",
       "      <th>30713</th>\n",
       "      <td>apache/netbeans</td>\n",
       "      <td>clean</td>\n",
       "      <td>@@ -36,7 +36,6 @@\\n import org.eclipse.persist...</td>\n",
       "      <td>30713</td>\n",
       "    </tr>\n",
       "    <tr>\n",
       "      <th>24323</th>\n",
       "      <td>apache/pulsar</td>\n",
       "      <td>clean</td>\n",
       "      <td>@@ -18,30 +18,29 @@\\n  */\\n package org.apache...</td>\n",
       "      <td>24323</td>\n",
       "    </tr>\n",
       "    <tr>\n",
       "      <th>32419</th>\n",
       "      <td>apache/netbeans</td>\n",
       "      <td>clean</td>\n",
       "      <td>@@ -77,7 +77,7 @@ public void initialize(Templ...</td>\n",
       "      <td>32419</td>\n",
       "    </tr>\n",
       "    <tr>\n",
       "      <th>32583</th>\n",
       "      <td>apache/netbeans</td>\n",
       "      <td>clean</td>\n",
       "      <td>@@ -116,7 +116,7 @@ public Dialog run () {\\n  ...</td>\n",
       "      <td>32583</td>\n",
       "    </tr>\n",
       "  </tbody>\n",
       "</table>\n",
       "<p>45900 rows × 4 columns</p>\n",
       "</div>"
      ],
      "text/plain": [
       "              full_repo_name       labels  \\\n",
       "16780      apache/skywalking  enhancement   \n",
       "17669      apache/skywalking  enhancement   \n",
       "39739        apache/netbeans  enhancement   \n",
       "5509   apache/myfaces-tobago  enhancement   \n",
       "3099       apache/cloudstack  enhancement   \n",
       "...                      ...          ...   \n",
       "28870      apache/bookkeeper        clean   \n",
       "30713        apache/netbeans        clean   \n",
       "24323          apache/pulsar        clean   \n",
       "32419        apache/netbeans        clean   \n",
       "32583        apache/netbeans        clean   \n",
       "\n",
       "                                                   patch  index  \n",
       "16780  @@ -142,4 +142,13 @@ public class StorageModul...  16780  \n",
       "17669  @@ -21,6 +21,7 @@\\n import java.util.Map;\\n im...  17669  \n",
       "39739  @@ -19,9 +19,8 @@\\n package org.netbeans.modul...  39739  \n",
       "5509   @@ -26,6 +26,7 @@\\n \\n import jakarta.faces.co...   5509  \n",
       "3099   @@ -42,14 +42,18 @@ public final class Libvirt...   3099  \n",
       "...                                                  ...    ...  \n",
       "28870  @@ -245,6 +245,7 @@ void unsetSuccessAndSendWr...  28870  \n",
       "30713  @@ -36,7 +36,6 @@\\n import org.eclipse.persist...  30713  \n",
       "24323  @@ -18,30 +18,29 @@\\n  */\\n package org.apache...  24323  \n",
       "32419  @@ -77,7 +77,7 @@ public void initialize(Templ...  32419  \n",
       "32583  @@ -116,7 +116,7 @@ public Dialog run () {\\n  ...  32583  \n",
       "\n",
       "[45900 rows x 4 columns]"
      ]
     },
     "execution_count": 1,
     "metadata": {},
     "output_type": "execute_result"
    }
   ],
   "source": [
    "from utils import prepare_dataframe\n",
    "\n",
    "df = prepare_dataframe(\"merged.csv\")\n",
    "resulting_label_count = df['labels'].nunique()\n",
    "df"
   ]
  },
  {
   "cell_type": "code",
   "execution_count": 45,
   "id": "d2dfcd2c",
   "metadata": {},
   "outputs": [],
   "source": [
    "embedding_directory = 'embeddings/GCB_Pooler_embeddings_patch_before_largewithcodedata_15300limit3label'\n",
    "model_directory = 'models/two_pipelines_StScaler_pooler_6layers_invertednn_100epoch_batch_normalization.pth'"
   ]
  },
  {
   "cell_type": "code",
   "execution_count": 3,
   "id": "1473d8e4-0174-4188-b0d3-3ba6927a48d6",
   "metadata": {},
   "outputs": [
    {
     "name": "stdout",
     "output_type": "stream",
     "text": [
      "tensor([0., 0., 1.])\n",
      "tensor([0., 0., 0., 0., 0., 0., 0., 0., 0., 0., 0., 0., 0., 0., 0., 0., 0., 0.,\n",
      "        0., 0., 0., 0., 0., 0., 0., 0., 0., 0., 0., 0., 0., 0., 0., 0., 0., 0.,\n",
      "        0., 0., 0., 0., 0., 0., 0., 0., 0., 0., 0., 0., 0., 0., 0., 0., 0., 0.,\n",
      "        0., 0., 0., 0., 0., 0., 0., 0., 0., 0., 1., 0., 0., 0., 0., 0., 0., 0.,\n",
      "        0., 0., 0., 0., 0., 0., 0., 0., 0., 0., 0., 0., 0., 0., 0., 0., 0., 0.,\n",
      "        0., 0., 0., 0., 0., 0., 0., 0., 0., 0.])\n"
     ]
    },
    {
     "data": {
      "text/html": [
       "<div>\n",
       "<style scoped>\n",
       "    .dataframe tbody tr th:only-of-type {\n",
       "        vertical-align: middle;\n",
       "    }\n",
       "\n",
       "    .dataframe tbody tr th {\n",
       "        vertical-align: top;\n",
       "    }\n",
       "\n",
       "    .dataframe thead th {\n",
       "        text-align: right;\n",
       "    }\n",
       "</style>\n",
       "<table border=\"1\" class=\"dataframe\">\n",
       "  <thead>\n",
       "    <tr style=\"text-align: right;\">\n",
       "      <th></th>\n",
       "      <th>index</th>\n",
       "      <th>label_tensor</th>\n",
       "      <th>repo_name_tensor</th>\n",
       "    </tr>\n",
       "  </thead>\n",
       "  <tbody>\n",
       "    <tr>\n",
       "      <th>16780</th>\n",
       "      <td>16780</td>\n",
       "      <td>[tensor(0.), tensor(0.), tensor(1.)]</td>\n",
       "      <td>[tensor(0.), tensor(0.), tensor(0.), tensor(0....</td>\n",
       "    </tr>\n",
       "    <tr>\n",
       "      <th>17669</th>\n",
       "      <td>17669</td>\n",
       "      <td>[tensor(0.), tensor(0.), tensor(1.)]</td>\n",
       "      <td>[tensor(0.), tensor(0.), tensor(0.), tensor(0....</td>\n",
       "    </tr>\n",
       "    <tr>\n",
       "      <th>39739</th>\n",
       "      <td>39739</td>\n",
       "      <td>[tensor(0.), tensor(0.), tensor(1.)]</td>\n",
       "      <td>[tensor(0.), tensor(0.), tensor(0.), tensor(0....</td>\n",
       "    </tr>\n",
       "    <tr>\n",
       "      <th>5509</th>\n",
       "      <td>5509</td>\n",
       "      <td>[tensor(0.), tensor(0.), tensor(1.)]</td>\n",
       "      <td>[tensor(0.), tensor(0.), tensor(0.), tensor(0....</td>\n",
       "    </tr>\n",
       "    <tr>\n",
       "      <th>3099</th>\n",
       "      <td>3099</td>\n",
       "      <td>[tensor(0.), tensor(0.), tensor(1.)]</td>\n",
       "      <td>[tensor(0.), tensor(0.), tensor(0.), tensor(0....</td>\n",
       "    </tr>\n",
       "    <tr>\n",
       "      <th>...</th>\n",
       "      <td>...</td>\n",
       "      <td>...</td>\n",
       "      <td>...</td>\n",
       "    </tr>\n",
       "    <tr>\n",
       "      <th>28870</th>\n",
       "      <td>28870</td>\n",
       "      <td>[tensor(0.), tensor(1.), tensor(0.)]</td>\n",
       "      <td>[tensor(0.), tensor(0.), tensor(0.), tensor(0....</td>\n",
       "    </tr>\n",
       "    <tr>\n",
       "      <th>30713</th>\n",
       "      <td>30713</td>\n",
       "      <td>[tensor(0.), tensor(1.), tensor(0.)]</td>\n",
       "      <td>[tensor(0.), tensor(0.), tensor(0.), tensor(0....</td>\n",
       "    </tr>\n",
       "    <tr>\n",
       "      <th>24323</th>\n",
       "      <td>24323</td>\n",
       "      <td>[tensor(0.), tensor(1.), tensor(0.)]</td>\n",
       "      <td>[tensor(0.), tensor(0.), tensor(0.), tensor(0....</td>\n",
       "    </tr>\n",
       "    <tr>\n",
       "      <th>32419</th>\n",
       "      <td>32419</td>\n",
       "      <td>[tensor(0.), tensor(1.), tensor(0.)]</td>\n",
       "      <td>[tensor(0.), tensor(0.), tensor(0.), tensor(0....</td>\n",
       "    </tr>\n",
       "    <tr>\n",
       "      <th>32583</th>\n",
       "      <td>32583</td>\n",
       "      <td>[tensor(0.), tensor(1.), tensor(0.)]</td>\n",
       "      <td>[tensor(0.), tensor(0.), tensor(0.), tensor(0....</td>\n",
       "    </tr>\n",
       "  </tbody>\n",
       "</table>\n",
       "<p>45900 rows × 3 columns</p>\n",
       "</div>"
      ],
      "text/plain": [
       "       index                          label_tensor  \\\n",
       "16780  16780  [tensor(0.), tensor(0.), tensor(1.)]   \n",
       "17669  17669  [tensor(0.), tensor(0.), tensor(1.)]   \n",
       "39739  39739  [tensor(0.), tensor(0.), tensor(1.)]   \n",
       "5509    5509  [tensor(0.), tensor(0.), tensor(1.)]   \n",
       "3099    3099  [tensor(0.), tensor(0.), tensor(1.)]   \n",
       "...      ...                                   ...   \n",
       "28870  28870  [tensor(0.), tensor(1.), tensor(0.)]   \n",
       "30713  30713  [tensor(0.), tensor(1.), tensor(0.)]   \n",
       "24323  24323  [tensor(0.), tensor(1.), tensor(0.)]   \n",
       "32419  32419  [tensor(0.), tensor(1.), tensor(0.)]   \n",
       "32583  32583  [tensor(0.), tensor(1.), tensor(0.)]   \n",
       "\n",
       "                                        repo_name_tensor  \n",
       "16780  [tensor(0.), tensor(0.), tensor(0.), tensor(0....  \n",
       "17669  [tensor(0.), tensor(0.), tensor(0.), tensor(0....  \n",
       "39739  [tensor(0.), tensor(0.), tensor(0.), tensor(0....  \n",
       "5509   [tensor(0.), tensor(0.), tensor(0.), tensor(0....  \n",
       "3099   [tensor(0.), tensor(0.), tensor(0.), tensor(0....  \n",
       "...                                                  ...  \n",
       "28870  [tensor(0.), tensor(0.), tensor(0.), tensor(0....  \n",
       "30713  [tensor(0.), tensor(0.), tensor(0.), tensor(0....  \n",
       "24323  [tensor(0.), tensor(0.), tensor(0.), tensor(0....  \n",
       "32419  [tensor(0.), tensor(0.), tensor(0.), tensor(0....  \n",
       "32583  [tensor(0.), tensor(0.), tensor(0.), tensor(0....  \n",
       "\n",
       "[45900 rows x 3 columns]"
      ]
     },
     "execution_count": 3,
     "metadata": {},
     "output_type": "execute_result"
    }
   ],
   "source": [
    "import pandas as pd\n",
    "import torch\n",
    "\n",
    "# One-hot encoding ile labels sütununu dönüştürme\n",
    "df_encoded_labels = pd.get_dummies(df, columns=['labels'])\n",
    "df_encoded_repo = pd.get_dummies(df, columns=['full_repo_name'])\n",
    "\n",
    "# Özellikler ve etiketler\n",
    "X_repo = df_encoded_repo.drop(columns=['labels','patch','index'])\n",
    "X_repo = X_repo.astype(int)\n",
    "\n",
    "# y = df_encoded.drop(columns=['content_before', 'content_after', 'tokens'])\n",
    "y = df_encoded_labels.drop(columns=['patch', 'full_repo_name','index'])\n",
    "y = y.astype(int) # convert it 0,1     instead of true, false \n",
    "\n",
    "df['label_tensor'] =[torch.tensor(row,dtype=torch.float32) for row in y.values] \n",
    "df['repo_name_tensor'] =[torch.tensor(row,dtype=torch.float32) for row in X_repo.values] \n",
    "\n",
    "df = df.drop(columns=['full_repo_name', 'labels','patch'])\n",
    "\n",
    "\n",
    "print(df['label_tensor'][0] )\n",
    "print(df['repo_name_tensor'][0] )\n",
    "df"
   ]
  },
  {
   "cell_type": "code",
   "execution_count": 4,
   "id": "d384305a",
   "metadata": {},
   "outputs": [
    {
     "data": {
      "application/vnd.jupyter.widget-view+json": {
       "model_id": "4796ecca9a4b46d19abca21fb401d2c7",
       "version_major": 2,
       "version_minor": 0
      },
      "text/plain": [
       "  0%|          | 0/45900 [00:00<?, ?it/s]"
      ]
     },
     "metadata": {},
     "output_type": "display_data"
    }
   ],
   "source": [
    "from utils import load_embeddings_from_directory_for_df\n",
    "import pandas as pd\n",
    "\n",
    "df = load_embeddings_from_directory_for_df(directory_path=embedding_directory,df=df)\n"
   ]
  },
  {
   "cell_type": "code",
   "execution_count": 5,
   "id": "ad2fd2b9",
   "metadata": {},
   "outputs": [],
   "source": [
    "from sklearn.model_selection import train_test_split\n",
    "\n",
    "X_index = df[['index']]\n",
    "# Split the code data into test, train and validation sets\n",
    "X_index_train, X_index_test = train_test_split(X_index, test_size=0.3, random_state=42) #random_state: 0,3074,42\n",
    "X_index_test, X_index_val = train_test_split(X_index_test, test_size=0.5, random_state=42)"
   ]
  },
  {
   "cell_type": "code",
   "execution_count": 6,
   "id": "583d68b7",
   "metadata": {},
   "outputs": [
    {
     "data": {
      "text/html": [
       "<div>\n",
       "<style scoped>\n",
       "    .dataframe tbody tr th:only-of-type {\n",
       "        vertical-align: middle;\n",
       "    }\n",
       "\n",
       "    .dataframe tbody tr th {\n",
       "        vertical-align: top;\n",
       "    }\n",
       "\n",
       "    .dataframe thead th {\n",
       "        text-align: right;\n",
       "    }\n",
       "</style>\n",
       "<table border=\"1\" class=\"dataframe\">\n",
       "  <thead>\n",
       "    <tr style=\"text-align: right;\">\n",
       "      <th></th>\n",
       "      <th>index</th>\n",
       "      <th>label_tensor</th>\n",
       "      <th>repo_name_tensor</th>\n",
       "      <th>embedding</th>\n",
       "    </tr>\n",
       "  </thead>\n",
       "  <tbody>\n",
       "    <tr>\n",
       "      <th>0</th>\n",
       "      <td>39739</td>\n",
       "      <td>[tensor(0.), tensor(0.), tensor(1.)]</td>\n",
       "      <td>[tensor(0.), tensor(0.), tensor(0.), tensor(0....</td>\n",
       "      <td>[tensor(-0.4503), tensor(0.2574), tensor(0.283...</td>\n",
       "    </tr>\n",
       "    <tr>\n",
       "      <th>1</th>\n",
       "      <td>5509</td>\n",
       "      <td>[tensor(0.), tensor(0.), tensor(1.)]</td>\n",
       "      <td>[tensor(0.), tensor(0.), tensor(0.), tensor(0....</td>\n",
       "      <td>[tensor(-0.4471), tensor(0.1839), tensor(0.028...</td>\n",
       "    </tr>\n",
       "    <tr>\n",
       "      <th>2</th>\n",
       "      <td>45680</td>\n",
       "      <td>[tensor(0.), tensor(0.), tensor(1.)]</td>\n",
       "      <td>[tensor(0.), tensor(0.), tensor(0.), tensor(0....</td>\n",
       "      <td>[tensor(-0.1267), tensor(-0.1298), tensor(0.08...</td>\n",
       "    </tr>\n",
       "    <tr>\n",
       "      <th>3</th>\n",
       "      <td>827</td>\n",
       "      <td>[tensor(0.), tensor(0.), tensor(1.)]</td>\n",
       "      <td>[tensor(0.), tensor(0.), tensor(0.), tensor(0....</td>\n",
       "      <td>[tensor(-0.2117), tensor(0.1112), tensor(-0.00...</td>\n",
       "    </tr>\n",
       "    <tr>\n",
       "      <th>4</th>\n",
       "      <td>53472</td>\n",
       "      <td>[tensor(0.), tensor(0.), tensor(1.)]</td>\n",
       "      <td>[tensor(0.), tensor(0.), tensor(0.), tensor(0....</td>\n",
       "      <td>[tensor(-0.4323), tensor(0.0370), tensor(0.130...</td>\n",
       "    </tr>\n",
       "    <tr>\n",
       "      <th>...</th>\n",
       "      <td>...</td>\n",
       "      <td>...</td>\n",
       "      <td>...</td>\n",
       "      <td>...</td>\n",
       "    </tr>\n",
       "    <tr>\n",
       "      <th>32125</th>\n",
       "      <td>28870</td>\n",
       "      <td>[tensor(0.), tensor(1.), tensor(0.)]</td>\n",
       "      <td>[tensor(0.), tensor(0.), tensor(0.), tensor(0....</td>\n",
       "      <td>[tensor(-0.1593), tensor(0.0117), tensor(0.037...</td>\n",
       "    </tr>\n",
       "    <tr>\n",
       "      <th>32126</th>\n",
       "      <td>30713</td>\n",
       "      <td>[tensor(0.), tensor(1.), tensor(0.)]</td>\n",
       "      <td>[tensor(0.), tensor(0.), tensor(0.), tensor(0....</td>\n",
       "      <td>[tensor(-0.0774), tensor(0.2843), tensor(0.145...</td>\n",
       "    </tr>\n",
       "    <tr>\n",
       "      <th>32127</th>\n",
       "      <td>24323</td>\n",
       "      <td>[tensor(0.), tensor(1.), tensor(0.)]</td>\n",
       "      <td>[tensor(0.), tensor(0.), tensor(0.), tensor(0....</td>\n",
       "      <td>[tensor(-0.4991), tensor(0.2270), tensor(0.189...</td>\n",
       "    </tr>\n",
       "    <tr>\n",
       "      <th>32128</th>\n",
       "      <td>32419</td>\n",
       "      <td>[tensor(0.), tensor(1.), tensor(0.)]</td>\n",
       "      <td>[tensor(0.), tensor(0.), tensor(0.), tensor(0....</td>\n",
       "      <td>[tensor(-0.0915), tensor(0.0837), tensor(0.112...</td>\n",
       "    </tr>\n",
       "    <tr>\n",
       "      <th>32129</th>\n",
       "      <td>32583</td>\n",
       "      <td>[tensor(0.), tensor(1.), tensor(0.)]</td>\n",
       "      <td>[tensor(0.), tensor(0.), tensor(0.), tensor(0....</td>\n",
       "      <td>[tensor(0.0020), tensor(0.0032), tensor(0.2443...</td>\n",
       "    </tr>\n",
       "  </tbody>\n",
       "</table>\n",
       "<p>32130 rows × 4 columns</p>\n",
       "</div>"
      ],
      "text/plain": [
       "       index                          label_tensor  \\\n",
       "0      39739  [tensor(0.), tensor(0.), tensor(1.)]   \n",
       "1       5509  [tensor(0.), tensor(0.), tensor(1.)]   \n",
       "2      45680  [tensor(0.), tensor(0.), tensor(1.)]   \n",
       "3        827  [tensor(0.), tensor(0.), tensor(1.)]   \n",
       "4      53472  [tensor(0.), tensor(0.), tensor(1.)]   \n",
       "...      ...                                   ...   \n",
       "32125  28870  [tensor(0.), tensor(1.), tensor(0.)]   \n",
       "32126  30713  [tensor(0.), tensor(1.), tensor(0.)]   \n",
       "32127  24323  [tensor(0.), tensor(1.), tensor(0.)]   \n",
       "32128  32419  [tensor(0.), tensor(1.), tensor(0.)]   \n",
       "32129  32583  [tensor(0.), tensor(1.), tensor(0.)]   \n",
       "\n",
       "                                        repo_name_tensor  \\\n",
       "0      [tensor(0.), tensor(0.), tensor(0.), tensor(0....   \n",
       "1      [tensor(0.), tensor(0.), tensor(0.), tensor(0....   \n",
       "2      [tensor(0.), tensor(0.), tensor(0.), tensor(0....   \n",
       "3      [tensor(0.), tensor(0.), tensor(0.), tensor(0....   \n",
       "4      [tensor(0.), tensor(0.), tensor(0.), tensor(0....   \n",
       "...                                                  ...   \n",
       "32125  [tensor(0.), tensor(0.), tensor(0.), tensor(0....   \n",
       "32126  [tensor(0.), tensor(0.), tensor(0.), tensor(0....   \n",
       "32127  [tensor(0.), tensor(0.), tensor(0.), tensor(0....   \n",
       "32128  [tensor(0.), tensor(0.), tensor(0.), tensor(0....   \n",
       "32129  [tensor(0.), tensor(0.), tensor(0.), tensor(0....   \n",
       "\n",
       "                                               embedding  \n",
       "0      [tensor(-0.4503), tensor(0.2574), tensor(0.283...  \n",
       "1      [tensor(-0.4471), tensor(0.1839), tensor(0.028...  \n",
       "2      [tensor(-0.1267), tensor(-0.1298), tensor(0.08...  \n",
       "3      [tensor(-0.2117), tensor(0.1112), tensor(-0.00...  \n",
       "4      [tensor(-0.4323), tensor(0.0370), tensor(0.130...  \n",
       "...                                                  ...  \n",
       "32125  [tensor(-0.1593), tensor(0.0117), tensor(0.037...  \n",
       "32126  [tensor(-0.0774), tensor(0.2843), tensor(0.145...  \n",
       "32127  [tensor(-0.4991), tensor(0.2270), tensor(0.189...  \n",
       "32128  [tensor(-0.0915), tensor(0.0837), tensor(0.112...  \n",
       "32129  [tensor(0.0020), tensor(0.0032), tensor(0.2443...  \n",
       "\n",
       "[32130 rows x 4 columns]"
      ]
     },
     "execution_count": 6,
     "metadata": {},
     "output_type": "execute_result"
    }
   ],
   "source": [
    "import gc\n",
    "import torch\n",
    "\n",
    "df_train = df[df['index'].isin(X_index_train['index'].values)].reset_index(drop=True)\n",
    "df_val = df[df['index'].isin(X_index_val['index'].values)].reset_index(drop=True)\n",
    "df_test = df[df['index'].isin(X_index_test['index'].values)].reset_index(drop=True)\n",
    "\n",
    "torch.cuda.empty_cache()\n",
    "\n",
    "df_train"
   ]
  },
  {
   "cell_type": "code",
   "execution_count": 7,
   "id": "5a72f7d3",
   "metadata": {},
   "outputs": [],
   "source": [
    "from torch.utils.data import DataLoader, Dataset\n",
    "from utils import load_embedding_from_directory\n",
    "\n",
    "# Custom Dataset Class to handle the dataframe\n",
    "class CodeDataset(Dataset):\n",
    "    def __init__(self, df):\n",
    "        self.df = df\n",
    "        self.id_list = df['index'].values \n",
    "\n",
    "    def __len__(self):\n",
    "        return len(self.df)\n",
    "    \n",
    "    def __getitem__(self, idx):\n",
    "    \n",
    "        index = self.id_list[idx]  \n",
    "\n",
    "        tensor_3d = self.df.loc[self.df['index'] == index, 'embedding'].iloc[0]\n",
    "        repo_name_tensor = self.df.loc[self.df['index'] == index, 'repo_name_tensor'].iloc[0]\n",
    "        label_tensor = self.df.loc[self.df['index'] == index, 'label_tensor'].iloc[0]\n",
    "        \n",
    "        #print(f\"{repo_name_tensor.shape} {tensor_3d.shape} {label_tensor.shape}\")\n",
    "        #print(\"-------------------------------\")\n",
    "        \n",
    "        #Flattening\n",
    "        #embedding = torch.flatten(tensor_3d)\n",
    "        embedding = tensor_3d\n",
    "        return embedding, label_tensor, repo_name_tensor, index\n"
   ]
  },
  {
   "cell_type": "code",
   "execution_count": 8,
   "id": "5275c4b7-a01a-450c-ad50-f66565fe47cd",
   "metadata": {},
   "outputs": [],
   "source": [
    "# Create DataLoader\n",
    "\n",
    "# Creating a DataLoader\n",
    "def create_dataloader(df, batch_size=32, shuffle=True):\n",
    "    dataset = CodeDataset(df)\n",
    "    return DataLoader(dataset, batch_size=batch_size, shuffle=shuffle)\n",
    "\n",
    "batch_size = 128\n",
    "test_loader = create_dataloader(df=df_test, batch_size=batch_size)\n",
    "train_loader = create_dataloader(df=df_train, batch_size=batch_size)\n",
    "val_loader = create_dataloader(df=df_val,batch_size=batch_size)\n",
    "\n",
    "full_loader_for_scaler = create_dataloader(df=df, batch_size=512)"
   ]
  },
  {
   "cell_type": "code",
   "execution_count": 9,
   "id": "5e1f4c49",
   "metadata": {},
   "outputs": [
    {
     "name": "stderr",
     "output_type": "stream",
     "text": [
      "/tmp/ipykernel_2395608/796712526.py:6: TqdmDeprecationWarning: This function will be removed in tqdm==5.0.0\n",
      "Please use `tqdm.notebook.tqdm` instead of `tqdm.tqdm_notebook`\n",
      "  for batch_X, batch_y, batch_X_repo, idx in tqdm.tqdm_notebook(full_loader_for_scaler):\n"
     ]
    },
    {
     "data": {
      "application/vnd.jupyter.widget-view+json": {
       "model_id": "f8fa6e3729f04fc59b2dac70228437dd",
       "version_major": 2,
       "version_minor": 0
      },
      "text/plain": [
       "  0%|          | 0/90 [00:00<?, ?it/s]"
      ]
     },
     "metadata": {},
     "output_type": "display_data"
    }
   ],
   "source": [
    "from sklearn.preprocessing import StandardScaler\n",
    "import tqdm\n",
    "\n",
    "scaler = StandardScaler()\n",
    "\n",
    "for batch_X, batch_y, batch_X_repo, idx in tqdm.tqdm_notebook(full_loader_for_scaler):\n",
    "    scaler.partial_fit(batch_X)"
   ]
  },
  {
   "cell_type": "code",
   "execution_count": 10,
   "id": "e05068d0",
   "metadata": {},
   "outputs": [
    {
     "data": {
      "text/plain": [
       "['scalers/scaler_pooler_3labels_15300.pkl']"
      ]
     },
     "execution_count": 10,
     "metadata": {},
     "output_type": "execute_result"
    }
   ],
   "source": [
    "import joblib\n",
    "\n",
    "# Save scaler into file\n",
    "joblib.dump(scaler, 'scalers/scaler_pooler_3labels_15300.pkl')"
   ]
  },
  {
   "cell_type": "code",
   "execution_count": 11,
   "id": "a203e773",
   "metadata": {},
   "outputs": [],
   "source": [
    "import joblib\n",
    "\n",
    "# Load scaler from file\n",
    "scaler = joblib.load('scalers/scaler_pooler_3labels_15300.pkl')"
   ]
  },
  {
   "cell_type": "code",
   "execution_count": 12,
   "id": "45c1b38c",
   "metadata": {},
   "outputs": [],
   "source": [
    "# import torch.nn as nn\n",
    "\n",
    "# # Define the ANN model\n",
    "# class SinglePipelineCodeDiffNN(nn.Module):\n",
    "#     def __init__(self, code_input_size, hidden_sizes, output_size, dropout_rate=0.05):\n",
    "#         super(SinglePipelineCodeDiffNN, self).__init__()\n",
    "        \n",
    "#         # Pipeline for code embeddings\n",
    "#         self.code_fc1 = nn.Linear(code_input_size, hidden_sizes[0])\n",
    "#         self.code_relu1 = nn.ReLU()\n",
    "#         self.code_dropout1 = nn.Dropout(dropout_rate)\n",
    "        \n",
    "#         self.code_fc2 = nn.Linear(hidden_sizes[0], hidden_sizes[1])\n",
    "#         self.code_relu2 = nn.ReLU()\n",
    "#         self.code_dropout2 = nn.Dropout(dropout_rate)\n",
    "\n",
    "#         self.code_fc3 = nn.Linear(hidden_sizes[1], hidden_sizes[2])\n",
    "#         self.code_relu3 = nn.ReLU()\n",
    "#         self.code_dropout3 = nn.Dropout(dropout_rate)\n",
    "\n",
    "#         self.code_fc4 = nn.Linear(hidden_sizes[2], hidden_sizes[3])\n",
    "#         self.code_relu4 = nn.ReLU()\n",
    "#         self.code_dropout4 = nn.Dropout(dropout_rate)\n",
    "\n",
    "#         self.code_fc5 = nn.Linear(hidden_sizes[3], hidden_sizes[4])\n",
    "#         self.code_relu5 = nn.ReLU()\n",
    "        \n",
    "#         self.code_fc_out = nn.Linear(hidden_sizes[4], output_size)\n",
    "\n",
    "        \n",
    "#     def forward(self, code_x):\n",
    "#         # Process code embeddings\n",
    "#         code_x = self.code_fc1(code_x)\n",
    "#         code_x = self.code_relu1(code_x)\n",
    "#         code_x = self.code_dropout1(code_x)\n",
    "        \n",
    "#         code_x = self.code_fc2(code_x)\n",
    "#         code_x = self.code_relu2(code_x)\n",
    "#         code_x = self.code_dropout2(code_x)\n",
    "\n",
    "#         code_x = self.code_fc3(code_x)\n",
    "#         code_x = self.code_relu3(code_x)\n",
    "#         code_x = self.code_dropout3(code_x)\n",
    "\n",
    "#         code_x = self.code_fc4(code_x)\n",
    "#         code_x = self.code_relu4(code_x)\n",
    "#         code_x = self.code_dropout4(code_x)\n",
    "\n",
    "#         code_x = self.code_fc5(code_x)\n",
    "#         code_x = self.code_relu5(code_x)\n",
    "\n",
    "#         # Final output\n",
    "#         output = self.code_fc_out(code_x)\n",
    "#         return output\n"
   ]
  },
  {
   "cell_type": "code",
   "execution_count": 59,
   "id": "732fcfda-7093-487d-850a-72bcd32782ea",
   "metadata": {},
   "outputs": [],
   "source": [
    "import torch.nn as nn\n",
    "\n",
    "# Define the ANN model\n",
    "class CodeDiffNN(nn.Module):\n",
    "    def __init__(self, code_input_size, repo_input_size, hidden_sizes_embedding_pipeline,hidden_sizes_reponame_pipeline,hidden_sizes_merged_pipeline, output_size, dropout_rate):\n",
    "        super(CodeDiffNN, self).__init__()\n",
    "        \n",
    "        # Pipeline for code embeddings\n",
    "        self.code_fc1 = nn.Linear(code_input_size, hidden_sizes_embedding_pipeline[0])\n",
    "        self.code_bn1 = nn.BatchNorm1d(hidden_sizes_embedding_pipeline[0])\n",
    "        self.code_relu1 = nn.ReLU()\n",
    "        self.code_dropout1 = nn.Dropout(dropout_rate)\n",
    "        \n",
    "        self.code_fc2 = nn.Linear(hidden_sizes_embedding_pipeline[0], hidden_sizes_embedding_pipeline[1])\n",
    "        self.code_bn2 = nn.BatchNorm1d(hidden_sizes_embedding_pipeline[1])\n",
    "        self.code_relu2 = nn.ReLU()\n",
    "        self.code_dropout2 = nn.Dropout(dropout_rate)\n",
    "        \n",
    "        self.code_fc3 = nn.Linear(hidden_sizes_embedding_pipeline[1], hidden_sizes_embedding_pipeline[2])\n",
    "        self.code_bn3 = nn.BatchNorm1d(hidden_sizes_embedding_pipeline[2])\n",
    "        self.code_relu3 = nn.ReLU()\n",
    "        self.code_dropout3 = nn.Dropout(dropout_rate)  \n",
    "        \n",
    "        \n",
    "        # Pipeline for repo names\n",
    "        self.repo_fc1 = nn.Linear(repo_input_size, hidden_sizes_reponame_pipeline[0])\n",
    "        self.repo_bn1 = nn.BatchNorm1d(hidden_sizes_reponame_pipeline[0])\n",
    "        self.repo_relu1 = nn.ReLU()\n",
    "        self.repo_dropout1 = nn.Dropout(dropout_rate)\n",
    "        \n",
    "        self.repo_fc2 = nn.Linear(hidden_sizes_reponame_pipeline[0], hidden_sizes_reponame_pipeline[1])\n",
    "        self.repo_bn2 = nn.BatchNorm1d(hidden_sizes_reponame_pipeline[1])\n",
    "        self.repo_relu2 = nn.ReLU()\n",
    "        self.repo_dropout2 = nn.Dropout(dropout_rate)\n",
    "\n",
    "        \n",
    "        # Combining the outputs of both pipelines\n",
    "        combined_input_size = hidden_sizes_embedding_pipeline[2] + hidden_sizes_reponame_pipeline[1]   # Since we're combining two pipelines\n",
    "        self.combined_fc1 = nn.Linear(combined_input_size, hidden_sizes_merged_pipeline[0])\n",
    "        self.combined_bn1 = nn.BatchNorm1d(hidden_sizes_merged_pipeline[0])\n",
    "        self.combined_relu1 = nn.ReLU()\n",
    "        self.combined_dropout1 = nn.Dropout(dropout_rate)\n",
    "\n",
    "        self.combined_fc2  = nn.Linear(hidden_sizes_merged_pipeline[0], hidden_sizes_merged_pipeline[1])\n",
    "        self.combined_bn2 = nn.BatchNorm1d(hidden_sizes_merged_pipeline[1])\n",
    "        self.combined_relu2  = nn.ReLU()\n",
    "        self.combined_dropout2 = nn.Dropout(dropout_rate)\n",
    "        \n",
    "        self.combined_fc3  = nn.Linear(hidden_sizes_merged_pipeline[1], hidden_sizes_merged_pipeline[2])\n",
    "        self.combined_bn3 = nn.BatchNorm1d(hidden_sizes_merged_pipeline[2])\n",
    "        self.combined_relu3  = nn.ReLU()\n",
    "        self.combined_dropout3 = nn.Dropout(dropout_rate)\n",
    "        \n",
    "        self.combined_fc4  = nn.Linear(hidden_sizes_merged_pipeline[2], hidden_sizes_merged_pipeline[3])\n",
    "        self.combined_bn4 = nn.BatchNorm1d(hidden_sizes_merged_pipeline[3])\n",
    "        self.combined_relu4  = nn.ReLU()\n",
    "        self.combined_dropout4 = nn.Dropout(dropout_rate)\n",
    "\n",
    "        # Output layer\n",
    "        self.fc_out = nn.Linear(hidden_sizes_merged_pipeline[3], output_size)\n",
    "        \n",
    "    def forward(self, code_x, repo_x):\n",
    "        # Process code embeddings\n",
    "        code_x = self.code_fc1(code_x)\n",
    "        code_x = self.code_bn1(code_x)\n",
    "        code_x = self.code_relu1(code_x)\n",
    "        code_x = self.code_dropout1(code_x)\n",
    "        \n",
    "        code_x = self.code_fc2(code_x)\n",
    "        code_x = self.code_bn2(code_x)\n",
    "        code_x = self.code_relu2(code_x)\n",
    "        code_x = self.code_dropout2(code_x)\n",
    "        \n",
    "        code_x = self.code_fc3(code_x)\n",
    "        code_x = self.code_bn3(code_x)\n",
    "        code_x = self.code_relu3(code_x)\n",
    "        code_x = self.code_dropout3(code_x)\n",
    "        \n",
    "        # Process repo names\n",
    "        repo_x = self.repo_fc1(repo_x)\n",
    "        repo_x = self.repo_bn1(repo_x)\n",
    "        repo_x = self.repo_relu1(repo_x)\n",
    "        repo_x = self.repo_dropout1(repo_x)\n",
    "        \n",
    "        repo_x = self.repo_fc2(repo_x)\n",
    "        repo_x = self.repo_bn2(repo_x)\n",
    "        repo_x = self.repo_relu2(repo_x)\n",
    "        repo_x = self.repo_dropout2(repo_x)\n",
    "        \n",
    "        # Combine both outputs\n",
    "        combined_x = torch.cat((code_x, repo_x), dim=1)\n",
    "        \n",
    "        # Process the combined output\n",
    "        combined_x = self.combined_fc1(combined_x)\n",
    "        combined_x = self.combined_bn1(combined_x)\n",
    "        combined_x = self.combined_relu1(combined_x)\n",
    "        combined_x = self.combined_dropout1(combined_x)\n",
    "\n",
    "        combined_x = self.combined_fc2(combined_x)\n",
    "        combined_x = self.combined_bn2(combined_x)\n",
    "        combined_x = self.combined_relu2(combined_x)\n",
    "        combined_x = self.combined_dropout2(combined_x)\n",
    "        \n",
    "        combined_x = self.combined_fc3(combined_x)\n",
    "        combined_x = self.combined_bn3(combined_x)\n",
    "        combined_x = self.combined_relu3(combined_x)\n",
    "        combined_x = self.combined_dropout3(combined_x)\n",
    "        \n",
    "        combined_x = self.combined_fc4(combined_x)\n",
    "        combined_x = self.combined_bn4(combined_x)\n",
    "        combined_x = self.combined_relu4(combined_x)\n",
    "        combined_x = self.combined_dropout4(combined_x)\n",
    "        \n",
    "        # Final output\n",
    "        output = self.fc_out(combined_x)\n",
    "        return output\n"
   ]
  },
  {
   "cell_type": "code",
   "execution_count": 23,
   "id": "3f447020",
   "metadata": {},
   "outputs": [],
   "source": [
    "# import torch.nn as nn\n",
    "\n",
    "# # Define the ANN model\n",
    "# class CodeDiffNN(nn.Module):\n",
    "#     def __init__(self, code_embedding_dim, repo_input_size, hidden_sizes, output_size, dropout_rate=0.001):\n",
    "#         super(CodeDiffNN, self).__init__()\n",
    "        \n",
    "#         # Pipeline for code embeddings (Conv2D for 2D input)\n",
    "#         # Set in_channels to the embedding dimension (e.g., 768)\n",
    "#         # Increase out_channels to better handle high-dimensional inputs\n",
    "#         self.code_conv1 = nn.Conv2d(in_channels=code_embedding_dim, out_channels=128, kernel_size=3, padding=1)\n",
    "#         self.code_relu1 = nn.ReLU()\n",
    "#         self.code_dropout1 = nn.Dropout(dropout_rate)\n",
    "        \n",
    "#         self.code_conv2 = nn.Conv2d(in_channels=128, out_channels=256, kernel_size=3, padding=1)\n",
    "#         self.code_relu2 = nn.ReLU()\n",
    "#         self.code_dropout2 = nn.Dropout(dropout_rate)\n",
    "\n",
    "#         # Assuming a fixed input size for flattening (adjust this based on the input size and conv layer operations)\n",
    "#         self.code_flatten = nn.Flatten()\n",
    "\n",
    "#         # Flattened output from conv layers should map to hidden_sizes[1]\n",
    "#         self.code_fc = nn.Linear(256*512, hidden_sizes[1])  # Modify based on input dimensions\n",
    "        \n",
    "#         # Pipeline for repo names (still using Linear layers for 1D input)\n",
    "#         self.repo_fc1 = nn.Linear(repo_input_size, hidden_sizes[0])\n",
    "#         self.repo_relu1 = nn.ReLU()\n",
    "#         self.repo_dropout1 = nn.Dropout(dropout_rate)\n",
    "        \n",
    "#         self.repo_fc2 = nn.Linear(hidden_sizes[0], hidden_sizes[1])\n",
    "#         self.repo_relu2 = nn.ReLU()\n",
    "#         self.repo_dropout2 = nn.Dropout(dropout_rate)\n",
    "        \n",
    "#         # Combining the outputs of both pipelines\n",
    "#         combined_input_size = hidden_sizes[1] * 2  # Since we're combining two pipelines\n",
    "#         self.fc_combined = nn.Linear(combined_input_size, hidden_sizes[2])\n",
    "#         self.relu_combined = nn.ReLU()\n",
    "#         self.dropout_combined = nn.Dropout(dropout_rate)\n",
    "\n",
    "#         # Output layer\n",
    "#         self.fc_out = nn.Linear(hidden_sizes[2], output_size)\n",
    "        \n",
    "#     def forward(self, code_x, repo_x):\n",
    "#         # Reformat input\n",
    "#         # [batch_size, sequence_length, embedding_dim] -> [batch_size, embedding_dim, sequence_length, 1]\n",
    "#         code_x = code_x.permute(0, 2, 1).unsqueeze(-1)\n",
    "        \n",
    "#         # Process code embeddings (2D input)\n",
    "#         code_x = self.code_conv1(code_x)\n",
    "#         code_x = self.code_relu1(code_x)\n",
    "#         code_x = self.code_dropout1(code_x)\n",
    "        \n",
    "#         code_x = self.code_conv2(code_x)\n",
    "#         code_x = self.code_relu2(code_x)\n",
    "#         code_x = self.code_dropout2(code_x)\n",
    "        \n",
    "#         # Flatten the output from the conv layers before the fully connected layer\n",
    "#         code_x = self.code_flatten(code_x)\n",
    "#         code_x = self.code_fc(code_x)\n",
    "        \n",
    "#         # Process repo names (1D input)\n",
    "#         repo_x = self.repo_fc1(repo_x)\n",
    "#         repo_x = self.repo_relu1(repo_x)\n",
    "#         repo_x = self.repo_dropout1(repo_x)\n",
    "        \n",
    "#         repo_x = self.repo_fc2(repo_x)\n",
    "#         repo_x = self.repo_relu2(repo_x)\n",
    "#         repo_x = self.repo_dropout2(repo_x)\n",
    "        \n",
    "#         # Combine both outputs\n",
    "#         combined_x = torch.cat((code_x, repo_x), dim=1)\n",
    "        \n",
    "#         # Process the combined output\n",
    "#         combined_x = self.fc_combined(combined_x)\n",
    "#         combined_x = self.relu_combined(combined_x)\n",
    "#         combined_x = self.dropout_combined(combined_x)\n",
    "        \n",
    "#         # Final output\n",
    "#         output = self.fc_out(combined_x)\n",
    "#         return output"
   ]
  },
  {
   "cell_type": "code",
   "execution_count": 46,
   "id": "719b4641-9783-4702-a73d-83315f04aabf",
   "metadata": {},
   "outputs": [],
   "source": [
    "import torch.optim as optim\n",
    "# Define model parameters\n",
    "\n",
    "code_embedding_dim = df_train['embedding'][5].shape[0]\n",
    "\n",
    "repo_input_size = len(df_train['repo_name_tensor'][0])\n",
    "#hidden_sizes = [1024, 512, 256, 128]\n",
    "hidden_sizes_embedding_pipeline = [1024, 2048, 4096]\n",
    "hidden_sizes_reponame_pipeline = [512, 1024]\n",
    "hidden_sizes_merged_pipeline = [2048, 1024, 512, 256]\n",
    "output_size = resulting_label_count\n",
    "dropout_rate = 0.05\n",
    "\n",
    "device = \"cuda:0\"\n",
    "model = CodeDiffNN(code_embedding_dim, repo_input_size, hidden_sizes_embedding_pipeline,hidden_sizes_reponame_pipeline,hidden_sizes_merged_pipeline, output_size, dropout_rate).to(device)\n",
    "# model = SinglePipelineCodeDiffNN(code_embedding_dim, hidden_sizes, output_size).to(device)\n",
    "\n",
    "criterion = nn.CrossEntropyLoss()\n",
    "optimizer = optim.Adam(model.parameters(), lr=1e-5)\n",
    "\n",
    "# Decrease learning rate automatically on plateau\n",
    "scheduler = optim.lr_scheduler.ReduceLROnPlateau(optimizer, mode='min', patience=400, factor=0.1, verbose=True)"
   ]
  },
  {
   "cell_type": "code",
   "execution_count": 47,
   "id": "aa8921d8",
   "metadata": {},
   "outputs": [
    {
     "name": "stdout",
     "output_type": "stream",
     "text": [
      "3\n",
      "768\n"
     ]
    }
   ],
   "source": [
    "print(resulting_label_count)\n",
    "print(code_embedding_dim)\n",
    "torch.cuda.empty_cache()"
   ]
  },
  {
   "cell_type": "code",
   "execution_count": 48,
   "id": "1136b4f3",
   "metadata": {},
   "outputs": [],
   "source": [
    "# Function to calculate accuracy\n",
    "def calculate_accuracy(outputs, labels):\n",
    "    _, predicted = torch.max(outputs, 1)  # Get the index of the max log-probability\n",
    "    # labels_1d = torch.argmax(labels, dim=1) # turn into 1D tensor\n",
    "    correct = (predicted == labels).sum().item()\n",
    "    accuracy = correct / labels.size(0)  # Accuracy = number of correct predictions / total number of samples\n",
    "    return accuracy"
   ]
  },
  {
   "cell_type": "code",
   "execution_count": 49,
   "id": "5cc27d60",
   "metadata": {},
   "outputs": [],
   "source": [
    "import tqdm\n",
    "\n",
    "def train_with_data_loader(model,loader):\n",
    "    \n",
    "    running_loss = 0.0\n",
    "    running_accuracy = 0.0\n",
    "    \n",
    "    for batch_X, batch_y, batch_X_repo, idx in tqdm.tqdm_notebook(loader):\n",
    "        \n",
    "        batch_X = scaler.transform(batch_X)\n",
    "        batch_X = torch.tensor(batch_X,dtype=torch.float32)\n",
    "        \n",
    "        # Forward pass        \n",
    "        batch_y = batch_y.to(device)\n",
    "        batch_X = batch_X.to(device)\n",
    "        batch_X_repo = batch_X_repo.to(device)\n",
    "        \n",
    "        batch_y = torch.argmax(batch_y, dim=1)\n",
    "\n",
    "        # outputs = model(batch_X)\n",
    "        outputs = model(batch_X, batch_X_repo)\n",
    "        loss = criterion(outputs, batch_y)\n",
    "    \n",
    "        # Backward pass and optimization\n",
    "        loss.backward()\n",
    "        optimizer.step()\n",
    "        \n",
    "        # Calculate accuracy\n",
    "        accuracy = calculate_accuracy(outputs, batch_y)\n",
    "        \n",
    "        # Update running loss and accuracy\n",
    "        running_loss += loss.item()\n",
    "        running_accuracy += accuracy\n",
    "        \n",
    "        \n",
    "    val_loss = running_loss / len(loader)\n",
    "    val_accuracy = running_accuracy / len(loader)\n",
    "    \n",
    "    return val_loss, val_accuracy"
   ]
  },
  {
   "cell_type": "code",
   "execution_count": 50,
   "id": "8aa76f38",
   "metadata": {},
   "outputs": [],
   "source": [
    "def evaluate_with_data_loader(model,loader):\n",
    "    \n",
    "    running_loss = 0.0\n",
    "    running_accuracy = 0.0\n",
    "    \n",
    "    for batch_X, batch_y, batch_X_repo, idx in loader:\n",
    "        \n",
    "        batch_X = scaler.transform(batch_X)\n",
    "        batch_X = torch.tensor(batch_X,dtype=torch.float32)\n",
    "        \n",
    "        # Forward pass\n",
    "        batch_y = batch_y.to(device)\n",
    "        batch_X = batch_X.to(device)\n",
    "        batch_X_repo = batch_X_repo.to(device)\n",
    "        \n",
    "        batch_y = torch.argmax(batch_y, dim=1)\n",
    "\n",
    "        outputs = model(batch_X, batch_X_repo)\n",
    "        # outputs = model(batch_X)\n",
    "        loss = criterion(outputs, batch_y)\n",
    "        \n",
    "        # Calculate accuracy\n",
    "        accuracy = calculate_accuracy(outputs, batch_y)\n",
    "        \n",
    "        # Update running loss and accuracy\n",
    "        running_loss += loss.item()\n",
    "        running_accuracy += accuracy\n",
    "        \n",
    "        \n",
    "    val_loss = running_loss / len(loader)\n",
    "    val_accuracy = running_accuracy / len(loader)\n",
    "    \n",
    "    # Adjust learning rate based on validation loss\n",
    "    scheduler.step(val_loss)\n",
    "    \n",
    "    return val_loss, val_accuracy"
   ]
  },
  {
   "cell_type": "code",
   "execution_count": 51,
   "id": "89e6726c",
   "metadata": {},
   "outputs": [],
   "source": [
    "def test_with_data_loader(model,loader):\n",
    "    \n",
    "    running_loss = 0.0\n",
    "    running_accuracy = 0.0\n",
    "    predicted_y = []\n",
    "    y = []\n",
    "    \n",
    "    for batch_X, batch_y, batch_X_repo, idx in loader:\n",
    "        \n",
    "        batch_X = scaler.transform(batch_X)\n",
    "        batch_X = torch.tensor(batch_X,dtype=torch.float32)\n",
    "\n",
    "        # Forward pass\n",
    "        batch_y = batch_y.to(device)\n",
    "        batch_X = batch_X.to(device)\n",
    "        batch_X_repo = batch_X_repo.to(device)\n",
    "        \n",
    "        # index encoding\n",
    "        batch_y_1D = torch.argmax(batch_y, dim=1)\n",
    "\n",
    "        outputs = model(batch_X, batch_X_repo)\n",
    "        # outputs = model(batch_X)\n",
    "        loss = criterion(outputs, batch_y_1D)\n",
    "        \n",
    "        # Calculate accuracy\n",
    "        accuracy = calculate_accuracy(outputs, batch_y_1D)\n",
    "        \n",
    "        # Update running loss and accuracy\n",
    "        running_loss += loss.item()\n",
    "        running_accuracy += accuracy\n",
    "\n",
    "        predicted_y.append(outputs)\n",
    "        y.append(batch_y)\n",
    "        \n",
    "    test_loss = running_loss / len(loader)\n",
    "    test_accuracy = running_accuracy / len(loader)\n",
    "    \n",
    "    return test_loss, test_accuracy, torch.cat(predicted_y, dim=0), torch.cat(y, dim=0)"
   ]
  },
  {
   "cell_type": "code",
   "execution_count": 52,
   "id": "3caeb974-c51d-4c28-a35e-7db695402f3b",
   "metadata": {
    "scrolled": true
   },
   "outputs": [
    {
     "name": "stderr",
     "output_type": "stream",
     "text": [
      "/tmp/ipykernel_2395608/922264242.py:11: TqdmDeprecationWarning: This function will be removed in tqdm==5.0.0\n",
      "Please use `tqdm.notebook.tqdm` instead of `tqdm.tqdm_notebook`\n",
      "  for epoch in tqdm.tqdm_notebook(range(num_epochs)):\n"
     ]
    },
    {
     "data": {
      "application/vnd.jupyter.widget-view+json": {
       "model_id": "b5cffd57cfed47f8b3e7badae1f1de6a",
       "version_major": 2,
       "version_minor": 0
      },
      "text/plain": [
       "  0%|          | 0/100 [00:00<?, ?it/s]"
      ]
     },
     "metadata": {},
     "output_type": "display_data"
    },
    {
     "name": "stderr",
     "output_type": "stream",
     "text": [
      "/tmp/ipykernel_2395608/2221030542.py:8: TqdmDeprecationWarning: This function will be removed in tqdm==5.0.0\n",
      "Please use `tqdm.notebook.tqdm` instead of `tqdm.tqdm_notebook`\n",
      "  for batch_X, batch_y, batch_X_repo, idx in tqdm.tqdm_notebook(loader):\n"
     ]
    },
    {
     "data": {
      "application/vnd.jupyter.widget-view+json": {
       "model_id": "fb98d382d26b4c5488b43af79357148e",
       "version_major": 2,
       "version_minor": 0
      },
      "text/plain": [
       "  0%|          | 0/252 [00:00<?, ?it/s]"
      ]
     },
     "metadata": {},
     "output_type": "display_data"
    },
    {
     "name": "stdout",
     "output_type": "stream",
     "text": [
      "Epoch [1/100], Loss: 0.6327, Accuracy: 0.7039\n",
      "Validation Loss: 0.5709, Validation Accuracy: 0.7344\n"
     ]
    },
    {
     "name": "stderr",
     "output_type": "stream",
     "text": [
      "/tmp/ipykernel_2395608/2221030542.py:8: TqdmDeprecationWarning: This function will be removed in tqdm==5.0.0\n",
      "Please use `tqdm.notebook.tqdm` instead of `tqdm.tqdm_notebook`\n",
      "  for batch_X, batch_y, batch_X_repo, idx in tqdm.tqdm_notebook(loader):\n"
     ]
    },
    {
     "data": {
      "application/vnd.jupyter.widget-view+json": {
       "model_id": "4854dae456554d9ea35c1b9bae42932e",
       "version_major": 2,
       "version_minor": 0
      },
      "text/plain": [
       "  0%|          | 0/252 [00:00<?, ?it/s]"
      ]
     },
     "metadata": {},
     "output_type": "display_data"
    },
    {
     "name": "stdout",
     "output_type": "stream",
     "text": [
      "Epoch [2/100], Loss: 0.5114, Accuracy: 0.7656\n",
      "Validation Loss: 0.5012, Validation Accuracy: 0.7704\n"
     ]
    },
    {
     "name": "stderr",
     "output_type": "stream",
     "text": [
      "/tmp/ipykernel_2395608/2221030542.py:8: TqdmDeprecationWarning: This function will be removed in tqdm==5.0.0\n",
      "Please use `tqdm.notebook.tqdm` instead of `tqdm.tqdm_notebook`\n",
      "  for batch_X, batch_y, batch_X_repo, idx in tqdm.tqdm_notebook(loader):\n"
     ]
    },
    {
     "data": {
      "application/vnd.jupyter.widget-view+json": {
       "model_id": "1b6b010d629b47a1a718b73fff246d16",
       "version_major": 2,
       "version_minor": 0
      },
      "text/plain": [
       "  0%|          | 0/252 [00:00<?, ?it/s]"
      ]
     },
     "metadata": {},
     "output_type": "display_data"
    },
    {
     "name": "stdout",
     "output_type": "stream",
     "text": [
      "Epoch [3/100], Loss: 0.4716, Accuracy: 0.7878\n",
      "Validation Loss: 0.5011, Validation Accuracy: 0.7768\n"
     ]
    },
    {
     "name": "stderr",
     "output_type": "stream",
     "text": [
      "/tmp/ipykernel_2395608/2221030542.py:8: TqdmDeprecationWarning: This function will be removed in tqdm==5.0.0\n",
      "Please use `tqdm.notebook.tqdm` instead of `tqdm.tqdm_notebook`\n",
      "  for batch_X, batch_y, batch_X_repo, idx in tqdm.tqdm_notebook(loader):\n"
     ]
    },
    {
     "data": {
      "application/vnd.jupyter.widget-view+json": {
       "model_id": "4b1e48f41488498580b8e09291b182b9",
       "version_major": 2,
       "version_minor": 0
      },
      "text/plain": [
       "  0%|          | 0/252 [00:00<?, ?it/s]"
      ]
     },
     "metadata": {},
     "output_type": "display_data"
    },
    {
     "name": "stdout",
     "output_type": "stream",
     "text": [
      "Epoch [4/100], Loss: 0.4336, Accuracy: 0.8056\n",
      "Validation Loss: 0.4864, Validation Accuracy: 0.7863\n"
     ]
    },
    {
     "name": "stderr",
     "output_type": "stream",
     "text": [
      "/tmp/ipykernel_2395608/2221030542.py:8: TqdmDeprecationWarning: This function will be removed in tqdm==5.0.0\n",
      "Please use `tqdm.notebook.tqdm` instead of `tqdm.tqdm_notebook`\n",
      "  for batch_X, batch_y, batch_X_repo, idx in tqdm.tqdm_notebook(loader):\n"
     ]
    },
    {
     "data": {
      "application/vnd.jupyter.widget-view+json": {
       "model_id": "96aa4d0924e14234b269ae4d37cf5ca0",
       "version_major": 2,
       "version_minor": 0
      },
      "text/plain": [
       "  0%|          | 0/252 [00:00<?, ?it/s]"
      ]
     },
     "metadata": {},
     "output_type": "display_data"
    },
    {
     "name": "stdout",
     "output_type": "stream",
     "text": [
      "Epoch [5/100], Loss: 0.4068, Accuracy: 0.8185\n",
      "Validation Loss: 0.4845, Validation Accuracy: 0.7851\n"
     ]
    },
    {
     "name": "stderr",
     "output_type": "stream",
     "text": [
      "/tmp/ipykernel_2395608/2221030542.py:8: TqdmDeprecationWarning: This function will be removed in tqdm==5.0.0\n",
      "Please use `tqdm.notebook.tqdm` instead of `tqdm.tqdm_notebook`\n",
      "  for batch_X, batch_y, batch_X_repo, idx in tqdm.tqdm_notebook(loader):\n"
     ]
    },
    {
     "data": {
      "application/vnd.jupyter.widget-view+json": {
       "model_id": "c7e5f2973bf64d4797851ea696869144",
       "version_major": 2,
       "version_minor": 0
      },
      "text/plain": [
       "  0%|          | 0/252 [00:00<?, ?it/s]"
      ]
     },
     "metadata": {},
     "output_type": "display_data"
    },
    {
     "name": "stdout",
     "output_type": "stream",
     "text": [
      "Epoch [6/100], Loss: 0.3777, Accuracy: 0.8344\n",
      "Validation Loss: 0.4689, Validation Accuracy: 0.7965\n"
     ]
    },
    {
     "name": "stderr",
     "output_type": "stream",
     "text": [
      "/tmp/ipykernel_2395608/2221030542.py:8: TqdmDeprecationWarning: This function will be removed in tqdm==5.0.0\n",
      "Please use `tqdm.notebook.tqdm` instead of `tqdm.tqdm_notebook`\n",
      "  for batch_X, batch_y, batch_X_repo, idx in tqdm.tqdm_notebook(loader):\n"
     ]
    },
    {
     "data": {
      "application/vnd.jupyter.widget-view+json": {
       "model_id": "e54348d8a4b44472962ec485f07bb626",
       "version_major": 2,
       "version_minor": 0
      },
      "text/plain": [
       "  0%|          | 0/252 [00:00<?, ?it/s]"
      ]
     },
     "metadata": {},
     "output_type": "display_data"
    },
    {
     "name": "stdout",
     "output_type": "stream",
     "text": [
      "Epoch [7/100], Loss: 0.3581, Accuracy: 0.8462\n",
      "Validation Loss: 0.4917, Validation Accuracy: 0.7852\n"
     ]
    },
    {
     "name": "stderr",
     "output_type": "stream",
     "text": [
      "/tmp/ipykernel_2395608/2221030542.py:8: TqdmDeprecationWarning: This function will be removed in tqdm==5.0.0\n",
      "Please use `tqdm.notebook.tqdm` instead of `tqdm.tqdm_notebook`\n",
      "  for batch_X, batch_y, batch_X_repo, idx in tqdm.tqdm_notebook(loader):\n"
     ]
    },
    {
     "data": {
      "application/vnd.jupyter.widget-view+json": {
       "model_id": "dd152912d45f483d8e75369db0cdcc0d",
       "version_major": 2,
       "version_minor": 0
      },
      "text/plain": [
       "  0%|          | 0/252 [00:00<?, ?it/s]"
      ]
     },
     "metadata": {},
     "output_type": "display_data"
    },
    {
     "name": "stdout",
     "output_type": "stream",
     "text": [
      "Epoch [8/100], Loss: 0.3257, Accuracy: 0.8610\n",
      "Validation Loss: 0.5018, Validation Accuracy: 0.7978\n"
     ]
    },
    {
     "name": "stderr",
     "output_type": "stream",
     "text": [
      "/tmp/ipykernel_2395608/2221030542.py:8: TqdmDeprecationWarning: This function will be removed in tqdm==5.0.0\n",
      "Please use `tqdm.notebook.tqdm` instead of `tqdm.tqdm_notebook`\n",
      "  for batch_X, batch_y, batch_X_repo, idx in tqdm.tqdm_notebook(loader):\n"
     ]
    },
    {
     "data": {
      "application/vnd.jupyter.widget-view+json": {
       "model_id": "a4f96a2b83614baa85be9e8157f6129d",
       "version_major": 2,
       "version_minor": 0
      },
      "text/plain": [
       "  0%|          | 0/252 [00:00<?, ?it/s]"
      ]
     },
     "metadata": {},
     "output_type": "display_data"
    },
    {
     "name": "stdout",
     "output_type": "stream",
     "text": [
      "Epoch [9/100], Loss: 0.3009, Accuracy: 0.8717\n",
      "Validation Loss: 0.5085, Validation Accuracy: 0.7888\n"
     ]
    },
    {
     "name": "stderr",
     "output_type": "stream",
     "text": [
      "/tmp/ipykernel_2395608/2221030542.py:8: TqdmDeprecationWarning: This function will be removed in tqdm==5.0.0\n",
      "Please use `tqdm.notebook.tqdm` instead of `tqdm.tqdm_notebook`\n",
      "  for batch_X, batch_y, batch_X_repo, idx in tqdm.tqdm_notebook(loader):\n"
     ]
    },
    {
     "data": {
      "application/vnd.jupyter.widget-view+json": {
       "model_id": "e49acf5b857741b0a0ab4968a8c534e6",
       "version_major": 2,
       "version_minor": 0
      },
      "text/plain": [
       "  0%|          | 0/252 [00:00<?, ?it/s]"
      ]
     },
     "metadata": {},
     "output_type": "display_data"
    },
    {
     "name": "stdout",
     "output_type": "stream",
     "text": [
      "Epoch [10/100], Loss: 0.2875, Accuracy: 0.8780\n",
      "Validation Loss: 0.5089, Validation Accuracy: 0.8076\n"
     ]
    },
    {
     "name": "stderr",
     "output_type": "stream",
     "text": [
      "/tmp/ipykernel_2395608/2221030542.py:8: TqdmDeprecationWarning: This function will be removed in tqdm==5.0.0\n",
      "Please use `tqdm.notebook.tqdm` instead of `tqdm.tqdm_notebook`\n",
      "  for batch_X, batch_y, batch_X_repo, idx in tqdm.tqdm_notebook(loader):\n"
     ]
    },
    {
     "data": {
      "application/vnd.jupyter.widget-view+json": {
       "model_id": "06a8c8b6018a4651b2106eca125fe537",
       "version_major": 2,
       "version_minor": 0
      },
      "text/plain": [
       "  0%|          | 0/252 [00:00<?, ?it/s]"
      ]
     },
     "metadata": {},
     "output_type": "display_data"
    },
    {
     "name": "stdout",
     "output_type": "stream",
     "text": [
      "Epoch [11/100], Loss: 0.2478, Accuracy: 0.8972\n",
      "Validation Loss: 0.5522, Validation Accuracy: 0.8103\n"
     ]
    },
    {
     "name": "stderr",
     "output_type": "stream",
     "text": [
      "/tmp/ipykernel_2395608/2221030542.py:8: TqdmDeprecationWarning: This function will be removed in tqdm==5.0.0\n",
      "Please use `tqdm.notebook.tqdm` instead of `tqdm.tqdm_notebook`\n",
      "  for batch_X, batch_y, batch_X_repo, idx in tqdm.tqdm_notebook(loader):\n"
     ]
    },
    {
     "data": {
      "application/vnd.jupyter.widget-view+json": {
       "model_id": "75883d6b6b8b46cf9879419ee8304c3b",
       "version_major": 2,
       "version_minor": 0
      },
      "text/plain": [
       "  0%|          | 0/252 [00:00<?, ?it/s]"
      ]
     },
     "metadata": {},
     "output_type": "display_data"
    },
    {
     "name": "stdout",
     "output_type": "stream",
     "text": [
      "Epoch [12/100], Loss: 0.2485, Accuracy: 0.9041\n",
      "Validation Loss: 0.5519, Validation Accuracy: 0.8061\n"
     ]
    },
    {
     "name": "stderr",
     "output_type": "stream",
     "text": [
      "/tmp/ipykernel_2395608/2221030542.py:8: TqdmDeprecationWarning: This function will be removed in tqdm==5.0.0\n",
      "Please use `tqdm.notebook.tqdm` instead of `tqdm.tqdm_notebook`\n",
      "  for batch_X, batch_y, batch_X_repo, idx in tqdm.tqdm_notebook(loader):\n"
     ]
    },
    {
     "data": {
      "application/vnd.jupyter.widget-view+json": {
       "model_id": "92e82b3239254b769894a0adad12f00c",
       "version_major": 2,
       "version_minor": 0
      },
      "text/plain": [
       "  0%|          | 0/252 [00:00<?, ?it/s]"
      ]
     },
     "metadata": {},
     "output_type": "display_data"
    },
    {
     "name": "stdout",
     "output_type": "stream",
     "text": [
      "Epoch [13/100], Loss: 0.2172, Accuracy: 0.9127\n",
      "Validation Loss: 0.5699, Validation Accuracy: 0.8109\n"
     ]
    },
    {
     "name": "stderr",
     "output_type": "stream",
     "text": [
      "/tmp/ipykernel_2395608/2221030542.py:8: TqdmDeprecationWarning: This function will be removed in tqdm==5.0.0\n",
      "Please use `tqdm.notebook.tqdm` instead of `tqdm.tqdm_notebook`\n",
      "  for batch_X, batch_y, batch_X_repo, idx in tqdm.tqdm_notebook(loader):\n"
     ]
    },
    {
     "data": {
      "application/vnd.jupyter.widget-view+json": {
       "model_id": "d46e2b03086b44ab8c34efc38921557e",
       "version_major": 2,
       "version_minor": 0
      },
      "text/plain": [
       "  0%|          | 0/252 [00:00<?, ?it/s]"
      ]
     },
     "metadata": {},
     "output_type": "display_data"
    },
    {
     "name": "stdout",
     "output_type": "stream",
     "text": [
      "Epoch [14/100], Loss: 0.2206, Accuracy: 0.9129\n",
      "Validation Loss: 0.5896, Validation Accuracy: 0.8104\n"
     ]
    },
    {
     "name": "stderr",
     "output_type": "stream",
     "text": [
      "/tmp/ipykernel_2395608/2221030542.py:8: TqdmDeprecationWarning: This function will be removed in tqdm==5.0.0\n",
      "Please use `tqdm.notebook.tqdm` instead of `tqdm.tqdm_notebook`\n",
      "  for batch_X, batch_y, batch_X_repo, idx in tqdm.tqdm_notebook(loader):\n"
     ]
    },
    {
     "data": {
      "application/vnd.jupyter.widget-view+json": {
       "model_id": "54c65079cf1344f8b09ca541a161526c",
       "version_major": 2,
       "version_minor": 0
      },
      "text/plain": [
       "  0%|          | 0/252 [00:00<?, ?it/s]"
      ]
     },
     "metadata": {},
     "output_type": "display_data"
    },
    {
     "name": "stdout",
     "output_type": "stream",
     "text": [
      "Epoch [15/100], Loss: 0.1986, Accuracy: 0.9161\n",
      "Validation Loss: 0.5961, Validation Accuracy: 0.8015\n"
     ]
    },
    {
     "name": "stderr",
     "output_type": "stream",
     "text": [
      "/tmp/ipykernel_2395608/2221030542.py:8: TqdmDeprecationWarning: This function will be removed in tqdm==5.0.0\n",
      "Please use `tqdm.notebook.tqdm` instead of `tqdm.tqdm_notebook`\n",
      "  for batch_X, batch_y, batch_X_repo, idx in tqdm.tqdm_notebook(loader):\n"
     ]
    },
    {
     "data": {
      "application/vnd.jupyter.widget-view+json": {
       "model_id": "dd2bb8fedb6948bd9a6246fa5bb78c81",
       "version_major": 2,
       "version_minor": 0
      },
      "text/plain": [
       "  0%|          | 0/252 [00:00<?, ?it/s]"
      ]
     },
     "metadata": {},
     "output_type": "display_data"
    },
    {
     "name": "stdout",
     "output_type": "stream",
     "text": [
      "Epoch [16/100], Loss: 0.2060, Accuracy: 0.9251\n",
      "Validation Loss: 0.6230, Validation Accuracy: 0.8120\n"
     ]
    },
    {
     "name": "stderr",
     "output_type": "stream",
     "text": [
      "/tmp/ipykernel_2395608/2221030542.py:8: TqdmDeprecationWarning: This function will be removed in tqdm==5.0.0\n",
      "Please use `tqdm.notebook.tqdm` instead of `tqdm.tqdm_notebook`\n",
      "  for batch_X, batch_y, batch_X_repo, idx in tqdm.tqdm_notebook(loader):\n"
     ]
    },
    {
     "data": {
      "application/vnd.jupyter.widget-view+json": {
       "model_id": "474af7e5d3504b7290db70cb06a5989a",
       "version_major": 2,
       "version_minor": 0
      },
      "text/plain": [
       "  0%|          | 0/252 [00:00<?, ?it/s]"
      ]
     },
     "metadata": {},
     "output_type": "display_data"
    },
    {
     "name": "stdout",
     "output_type": "stream",
     "text": [
      "Epoch [17/100], Loss: 0.1673, Accuracy: 0.9322\n",
      "Validation Loss: 0.6129, Validation Accuracy: 0.8063\n"
     ]
    },
    {
     "name": "stderr",
     "output_type": "stream",
     "text": [
      "/tmp/ipykernel_2395608/2221030542.py:8: TqdmDeprecationWarning: This function will be removed in tqdm==5.0.0\n",
      "Please use `tqdm.notebook.tqdm` instead of `tqdm.tqdm_notebook`\n",
      "  for batch_X, batch_y, batch_X_repo, idx in tqdm.tqdm_notebook(loader):\n"
     ]
    },
    {
     "data": {
      "application/vnd.jupyter.widget-view+json": {
       "model_id": "a812079635244277a905d8e90f2294e7",
       "version_major": 2,
       "version_minor": 0
      },
      "text/plain": [
       "  0%|          | 0/252 [00:00<?, ?it/s]"
      ]
     },
     "metadata": {},
     "output_type": "display_data"
    },
    {
     "name": "stdout",
     "output_type": "stream",
     "text": [
      "Epoch [18/100], Loss: 0.1715, Accuracy: 0.9325\n",
      "Validation Loss: 0.6580, Validation Accuracy: 0.8130\n"
     ]
    },
    {
     "name": "stderr",
     "output_type": "stream",
     "text": [
      "/tmp/ipykernel_2395608/2221030542.py:8: TqdmDeprecationWarning: This function will be removed in tqdm==5.0.0\n",
      "Please use `tqdm.notebook.tqdm` instead of `tqdm.tqdm_notebook`\n",
      "  for batch_X, batch_y, batch_X_repo, idx in tqdm.tqdm_notebook(loader):\n"
     ]
    },
    {
     "data": {
      "application/vnd.jupyter.widget-view+json": {
       "model_id": "dbe22974bf2145caba4759f12adb53ce",
       "version_major": 2,
       "version_minor": 0
      },
      "text/plain": [
       "  0%|          | 0/252 [00:00<?, ?it/s]"
      ]
     },
     "metadata": {},
     "output_type": "display_data"
    },
    {
     "name": "stdout",
     "output_type": "stream",
     "text": [
      "Epoch [19/100], Loss: 0.1763, Accuracy: 0.9362\n",
      "Validation Loss: 0.6912, Validation Accuracy: 0.8095\n"
     ]
    },
    {
     "name": "stderr",
     "output_type": "stream",
     "text": [
      "/tmp/ipykernel_2395608/2221030542.py:8: TqdmDeprecationWarning: This function will be removed in tqdm==5.0.0\n",
      "Please use `tqdm.notebook.tqdm` instead of `tqdm.tqdm_notebook`\n",
      "  for batch_X, batch_y, batch_X_repo, idx in tqdm.tqdm_notebook(loader):\n"
     ]
    },
    {
     "data": {
      "application/vnd.jupyter.widget-view+json": {
       "model_id": "f3011db699ab4bc7830d5fdf0b754632",
       "version_major": 2,
       "version_minor": 0
      },
      "text/plain": [
       "  0%|          | 0/252 [00:00<?, ?it/s]"
      ]
     },
     "metadata": {},
     "output_type": "display_data"
    },
    {
     "name": "stdout",
     "output_type": "stream",
     "text": [
      "Epoch [20/100], Loss: 0.1530, Accuracy: 0.9383\n",
      "Validation Loss: 0.7137, Validation Accuracy: 0.8153\n"
     ]
    },
    {
     "name": "stderr",
     "output_type": "stream",
     "text": [
      "/tmp/ipykernel_2395608/2221030542.py:8: TqdmDeprecationWarning: This function will be removed in tqdm==5.0.0\n",
      "Please use `tqdm.notebook.tqdm` instead of `tqdm.tqdm_notebook`\n",
      "  for batch_X, batch_y, batch_X_repo, idx in tqdm.tqdm_notebook(loader):\n"
     ]
    },
    {
     "data": {
      "application/vnd.jupyter.widget-view+json": {
       "model_id": "79c68ca7013f48689fc212d2096a3a6a",
       "version_major": 2,
       "version_minor": 0
      },
      "text/plain": [
       "  0%|          | 0/252 [00:00<?, ?it/s]"
      ]
     },
     "metadata": {},
     "output_type": "display_data"
    },
    {
     "name": "stdout",
     "output_type": "stream",
     "text": [
      "Epoch [21/100], Loss: 0.1423, Accuracy: 0.9433\n",
      "Validation Loss: 0.7262, Validation Accuracy: 0.8200\n"
     ]
    },
    {
     "name": "stderr",
     "output_type": "stream",
     "text": [
      "/tmp/ipykernel_2395608/2221030542.py:8: TqdmDeprecationWarning: This function will be removed in tqdm==5.0.0\n",
      "Please use `tqdm.notebook.tqdm` instead of `tqdm.tqdm_notebook`\n",
      "  for batch_X, batch_y, batch_X_repo, idx in tqdm.tqdm_notebook(loader):\n"
     ]
    },
    {
     "data": {
      "application/vnd.jupyter.widget-view+json": {
       "model_id": "856df9a91b054bc3a3b979ab97bd570d",
       "version_major": 2,
       "version_minor": 0
      },
      "text/plain": [
       "  0%|          | 0/252 [00:00<?, ?it/s]"
      ]
     },
     "metadata": {},
     "output_type": "display_data"
    },
    {
     "name": "stdout",
     "output_type": "stream",
     "text": [
      "Epoch [22/100], Loss: 0.1645, Accuracy: 0.9435\n",
      "Validation Loss: 0.7189, Validation Accuracy: 0.8192\n"
     ]
    },
    {
     "name": "stderr",
     "output_type": "stream",
     "text": [
      "/tmp/ipykernel_2395608/2221030542.py:8: TqdmDeprecationWarning: This function will be removed in tqdm==5.0.0\n",
      "Please use `tqdm.notebook.tqdm` instead of `tqdm.tqdm_notebook`\n",
      "  for batch_X, batch_y, batch_X_repo, idx in tqdm.tqdm_notebook(loader):\n"
     ]
    },
    {
     "data": {
      "application/vnd.jupyter.widget-view+json": {
       "model_id": "024ade5eed6642cdb4ca66bdc930348e",
       "version_major": 2,
       "version_minor": 0
      },
      "text/plain": [
       "  0%|          | 0/252 [00:00<?, ?it/s]"
      ]
     },
     "metadata": {},
     "output_type": "display_data"
    },
    {
     "name": "stdout",
     "output_type": "stream",
     "text": [
      "Epoch [23/100], Loss: 0.1542, Accuracy: 0.9480\n",
      "Validation Loss: 0.7031, Validation Accuracy: 0.8143\n"
     ]
    },
    {
     "name": "stderr",
     "output_type": "stream",
     "text": [
      "/tmp/ipykernel_2395608/2221030542.py:8: TqdmDeprecationWarning: This function will be removed in tqdm==5.0.0\n",
      "Please use `tqdm.notebook.tqdm` instead of `tqdm.tqdm_notebook`\n",
      "  for batch_X, batch_y, batch_X_repo, idx in tqdm.tqdm_notebook(loader):\n"
     ]
    },
    {
     "data": {
      "application/vnd.jupyter.widget-view+json": {
       "model_id": "ee434e57c74344e9a82f551cb84e2f31",
       "version_major": 2,
       "version_minor": 0
      },
      "text/plain": [
       "  0%|          | 0/252 [00:00<?, ?it/s]"
      ]
     },
     "metadata": {},
     "output_type": "display_data"
    },
    {
     "name": "stdout",
     "output_type": "stream",
     "text": [
      "Epoch [24/100], Loss: 0.1140, Accuracy: 0.9554\n",
      "Validation Loss: 0.7700, Validation Accuracy: 0.8191\n"
     ]
    },
    {
     "name": "stderr",
     "output_type": "stream",
     "text": [
      "/tmp/ipykernel_2395608/2221030542.py:8: TqdmDeprecationWarning: This function will be removed in tqdm==5.0.0\n",
      "Please use `tqdm.notebook.tqdm` instead of `tqdm.tqdm_notebook`\n",
      "  for batch_X, batch_y, batch_X_repo, idx in tqdm.tqdm_notebook(loader):\n"
     ]
    },
    {
     "data": {
      "application/vnd.jupyter.widget-view+json": {
       "model_id": "a58a72bbe15046a09b9a57a8118fc1e3",
       "version_major": 2,
       "version_minor": 0
      },
      "text/plain": [
       "  0%|          | 0/252 [00:00<?, ?it/s]"
      ]
     },
     "metadata": {},
     "output_type": "display_data"
    },
    {
     "name": "stdout",
     "output_type": "stream",
     "text": [
      "Epoch [25/100], Loss: 0.1485, Accuracy: 0.9541\n",
      "Validation Loss: 0.7290, Validation Accuracy: 0.8248\n"
     ]
    },
    {
     "name": "stderr",
     "output_type": "stream",
     "text": [
      "/tmp/ipykernel_2395608/2221030542.py:8: TqdmDeprecationWarning: This function will be removed in tqdm==5.0.0\n",
      "Please use `tqdm.notebook.tqdm` instead of `tqdm.tqdm_notebook`\n",
      "  for batch_X, batch_y, batch_X_repo, idx in tqdm.tqdm_notebook(loader):\n"
     ]
    },
    {
     "data": {
      "application/vnd.jupyter.widget-view+json": {
       "model_id": "816cab8cc4e945e989c0924fc71d5671",
       "version_major": 2,
       "version_minor": 0
      },
      "text/plain": [
       "  0%|          | 0/252 [00:00<?, ?it/s]"
      ]
     },
     "metadata": {},
     "output_type": "display_data"
    },
    {
     "name": "stdout",
     "output_type": "stream",
     "text": [
      "Epoch [26/100], Loss: 0.1074, Accuracy: 0.9592\n",
      "Validation Loss: 0.7149, Validation Accuracy: 0.8225\n"
     ]
    },
    {
     "name": "stderr",
     "output_type": "stream",
     "text": [
      "/tmp/ipykernel_2395608/2221030542.py:8: TqdmDeprecationWarning: This function will be removed in tqdm==5.0.0\n",
      "Please use `tqdm.notebook.tqdm` instead of `tqdm.tqdm_notebook`\n",
      "  for batch_X, batch_y, batch_X_repo, idx in tqdm.tqdm_notebook(loader):\n"
     ]
    },
    {
     "data": {
      "application/vnd.jupyter.widget-view+json": {
       "model_id": "c769ccf366e14d8ca65475d45e57b955",
       "version_major": 2,
       "version_minor": 0
      },
      "text/plain": [
       "  0%|          | 0/252 [00:00<?, ?it/s]"
      ]
     },
     "metadata": {},
     "output_type": "display_data"
    },
    {
     "name": "stdout",
     "output_type": "stream",
     "text": [
      "Epoch [27/100], Loss: 0.0967, Accuracy: 0.9613\n",
      "Validation Loss: 0.7572, Validation Accuracy: 0.8179\n"
     ]
    },
    {
     "name": "stderr",
     "output_type": "stream",
     "text": [
      "/tmp/ipykernel_2395608/2221030542.py:8: TqdmDeprecationWarning: This function will be removed in tqdm==5.0.0\n",
      "Please use `tqdm.notebook.tqdm` instead of `tqdm.tqdm_notebook`\n",
      "  for batch_X, batch_y, batch_X_repo, idx in tqdm.tqdm_notebook(loader):\n"
     ]
    },
    {
     "data": {
      "application/vnd.jupyter.widget-view+json": {
       "model_id": "722ba995e05342dfba1a0d435c4f600d",
       "version_major": 2,
       "version_minor": 0
      },
      "text/plain": [
       "  0%|          | 0/252 [00:00<?, ?it/s]"
      ]
     },
     "metadata": {},
     "output_type": "display_data"
    },
    {
     "name": "stdout",
     "output_type": "stream",
     "text": [
      "Epoch [28/100], Loss: 0.1252, Accuracy: 0.9609\n",
      "Validation Loss: 0.7489, Validation Accuracy: 0.8293\n"
     ]
    },
    {
     "name": "stderr",
     "output_type": "stream",
     "text": [
      "/tmp/ipykernel_2395608/2221030542.py:8: TqdmDeprecationWarning: This function will be removed in tqdm==5.0.0\n",
      "Please use `tqdm.notebook.tqdm` instead of `tqdm.tqdm_notebook`\n",
      "  for batch_X, batch_y, batch_X_repo, idx in tqdm.tqdm_notebook(loader):\n"
     ]
    },
    {
     "data": {
      "application/vnd.jupyter.widget-view+json": {
       "model_id": "aef6d93a89ae47478805133153d37d9d",
       "version_major": 2,
       "version_minor": 0
      },
      "text/plain": [
       "  0%|          | 0/252 [00:00<?, ?it/s]"
      ]
     },
     "metadata": {},
     "output_type": "display_data"
    },
    {
     "name": "stdout",
     "output_type": "stream",
     "text": [
      "Epoch [29/100], Loss: 0.0923, Accuracy: 0.9685\n",
      "Validation Loss: 0.7809, Validation Accuracy: 0.8268\n"
     ]
    },
    {
     "name": "stderr",
     "output_type": "stream",
     "text": [
      "/tmp/ipykernel_2395608/2221030542.py:8: TqdmDeprecationWarning: This function will be removed in tqdm==5.0.0\n",
      "Please use `tqdm.notebook.tqdm` instead of `tqdm.tqdm_notebook`\n",
      "  for batch_X, batch_y, batch_X_repo, idx in tqdm.tqdm_notebook(loader):\n"
     ]
    },
    {
     "data": {
      "application/vnd.jupyter.widget-view+json": {
       "model_id": "1286e18872c9479f8f3dfa2ff19fbc8b",
       "version_major": 2,
       "version_minor": 0
      },
      "text/plain": [
       "  0%|          | 0/252 [00:00<?, ?it/s]"
      ]
     },
     "metadata": {},
     "output_type": "display_data"
    },
    {
     "name": "stdout",
     "output_type": "stream",
     "text": [
      "Epoch [30/100], Loss: 0.0857, Accuracy: 0.9661\n",
      "Validation Loss: 0.8025, Validation Accuracy: 0.8261\n"
     ]
    },
    {
     "name": "stderr",
     "output_type": "stream",
     "text": [
      "/tmp/ipykernel_2395608/2221030542.py:8: TqdmDeprecationWarning: This function will be removed in tqdm==5.0.0\n",
      "Please use `tqdm.notebook.tqdm` instead of `tqdm.tqdm_notebook`\n",
      "  for batch_X, batch_y, batch_X_repo, idx in tqdm.tqdm_notebook(loader):\n"
     ]
    },
    {
     "data": {
      "application/vnd.jupyter.widget-view+json": {
       "model_id": "86c9a7827b2c4e38bd76a1cab29ca86c",
       "version_major": 2,
       "version_minor": 0
      },
      "text/plain": [
       "  0%|          | 0/252 [00:00<?, ?it/s]"
      ]
     },
     "metadata": {},
     "output_type": "display_data"
    },
    {
     "name": "stdout",
     "output_type": "stream",
     "text": [
      "Epoch [31/100], Loss: 0.0805, Accuracy: 0.9671\n",
      "Validation Loss: 0.8227, Validation Accuracy: 0.8294\n"
     ]
    },
    {
     "name": "stderr",
     "output_type": "stream",
     "text": [
      "/tmp/ipykernel_2395608/2221030542.py:8: TqdmDeprecationWarning: This function will be removed in tqdm==5.0.0\n",
      "Please use `tqdm.notebook.tqdm` instead of `tqdm.tqdm_notebook`\n",
      "  for batch_X, batch_y, batch_X_repo, idx in tqdm.tqdm_notebook(loader):\n"
     ]
    },
    {
     "data": {
      "application/vnd.jupyter.widget-view+json": {
       "model_id": "864ae87b936e4e3988332fdce4691c45",
       "version_major": 2,
       "version_minor": 0
      },
      "text/plain": [
       "  0%|          | 0/252 [00:00<?, ?it/s]"
      ]
     },
     "metadata": {},
     "output_type": "display_data"
    },
    {
     "name": "stdout",
     "output_type": "stream",
     "text": [
      "Epoch [32/100], Loss: 0.0796, Accuracy: 0.9702\n",
      "Validation Loss: 0.7841, Validation Accuracy: 0.8225\n"
     ]
    },
    {
     "name": "stderr",
     "output_type": "stream",
     "text": [
      "/tmp/ipykernel_2395608/2221030542.py:8: TqdmDeprecationWarning: This function will be removed in tqdm==5.0.0\n",
      "Please use `tqdm.notebook.tqdm` instead of `tqdm.tqdm_notebook`\n",
      "  for batch_X, batch_y, batch_X_repo, idx in tqdm.tqdm_notebook(loader):\n"
     ]
    },
    {
     "data": {
      "application/vnd.jupyter.widget-view+json": {
       "model_id": "ebb657a9f20f490891e8972f5f770bc8",
       "version_major": 2,
       "version_minor": 0
      },
      "text/plain": [
       "  0%|          | 0/252 [00:00<?, ?it/s]"
      ]
     },
     "metadata": {},
     "output_type": "display_data"
    },
    {
     "name": "stdout",
     "output_type": "stream",
     "text": [
      "Epoch [33/100], Loss: 0.0753, Accuracy: 0.9706\n",
      "Validation Loss: 0.8448, Validation Accuracy: 0.8211\n"
     ]
    },
    {
     "name": "stderr",
     "output_type": "stream",
     "text": [
      "/tmp/ipykernel_2395608/2221030542.py:8: TqdmDeprecationWarning: This function will be removed in tqdm==5.0.0\n",
      "Please use `tqdm.notebook.tqdm` instead of `tqdm.tqdm_notebook`\n",
      "  for batch_X, batch_y, batch_X_repo, idx in tqdm.tqdm_notebook(loader):\n"
     ]
    },
    {
     "data": {
      "application/vnd.jupyter.widget-view+json": {
       "model_id": "ca93514fab874b8ebc0ea2358cbb789f",
       "version_major": 2,
       "version_minor": 0
      },
      "text/plain": [
       "  0%|          | 0/252 [00:00<?, ?it/s]"
      ]
     },
     "metadata": {},
     "output_type": "display_data"
    },
    {
     "name": "stdout",
     "output_type": "stream",
     "text": [
      "Epoch [34/100], Loss: 0.1026, Accuracy: 0.9706\n",
      "Validation Loss: 0.8677, Validation Accuracy: 0.8232\n"
     ]
    },
    {
     "name": "stderr",
     "output_type": "stream",
     "text": [
      "/tmp/ipykernel_2395608/2221030542.py:8: TqdmDeprecationWarning: This function will be removed in tqdm==5.0.0\n",
      "Please use `tqdm.notebook.tqdm` instead of `tqdm.tqdm_notebook`\n",
      "  for batch_X, batch_y, batch_X_repo, idx in tqdm.tqdm_notebook(loader):\n"
     ]
    },
    {
     "data": {
      "application/vnd.jupyter.widget-view+json": {
       "model_id": "195c4ee818614afdb16d080ae1cf104f",
       "version_major": 2,
       "version_minor": 0
      },
      "text/plain": [
       "  0%|          | 0/252 [00:00<?, ?it/s]"
      ]
     },
     "metadata": {},
     "output_type": "display_data"
    },
    {
     "name": "stdout",
     "output_type": "stream",
     "text": [
      "Epoch [35/100], Loss: 0.0779, Accuracy: 0.9710\n",
      "Validation Loss: 0.8866, Validation Accuracy: 0.8276\n"
     ]
    },
    {
     "name": "stderr",
     "output_type": "stream",
     "text": [
      "/tmp/ipykernel_2395608/2221030542.py:8: TqdmDeprecationWarning: This function will be removed in tqdm==5.0.0\n",
      "Please use `tqdm.notebook.tqdm` instead of `tqdm.tqdm_notebook`\n",
      "  for batch_X, batch_y, batch_X_repo, idx in tqdm.tqdm_notebook(loader):\n"
     ]
    },
    {
     "data": {
      "application/vnd.jupyter.widget-view+json": {
       "model_id": "46aa4a737b9b406ba448fb2cc615b10b",
       "version_major": 2,
       "version_minor": 0
      },
      "text/plain": [
       "  0%|          | 0/252 [00:00<?, ?it/s]"
      ]
     },
     "metadata": {},
     "output_type": "display_data"
    },
    {
     "name": "stdout",
     "output_type": "stream",
     "text": [
      "Epoch [36/100], Loss: 0.0746, Accuracy: 0.9714\n",
      "Validation Loss: 0.8656, Validation Accuracy: 0.8213\n"
     ]
    },
    {
     "name": "stderr",
     "output_type": "stream",
     "text": [
      "/tmp/ipykernel_2395608/2221030542.py:8: TqdmDeprecationWarning: This function will be removed in tqdm==5.0.0\n",
      "Please use `tqdm.notebook.tqdm` instead of `tqdm.tqdm_notebook`\n",
      "  for batch_X, batch_y, batch_X_repo, idx in tqdm.tqdm_notebook(loader):\n"
     ]
    },
    {
     "data": {
      "application/vnd.jupyter.widget-view+json": {
       "model_id": "7bbff31276164783837fed60ac621d15",
       "version_major": 2,
       "version_minor": 0
      },
      "text/plain": [
       "  0%|          | 0/252 [00:00<?, ?it/s]"
      ]
     },
     "metadata": {},
     "output_type": "display_data"
    },
    {
     "name": "stdout",
     "output_type": "stream",
     "text": [
      "Epoch [37/100], Loss: 0.1095, Accuracy: 0.9700\n",
      "Validation Loss: 0.8705, Validation Accuracy: 0.8235\n"
     ]
    },
    {
     "name": "stderr",
     "output_type": "stream",
     "text": [
      "/tmp/ipykernel_2395608/2221030542.py:8: TqdmDeprecationWarning: This function will be removed in tqdm==5.0.0\n",
      "Please use `tqdm.notebook.tqdm` instead of `tqdm.tqdm_notebook`\n",
      "  for batch_X, batch_y, batch_X_repo, idx in tqdm.tqdm_notebook(loader):\n"
     ]
    },
    {
     "data": {
      "application/vnd.jupyter.widget-view+json": {
       "model_id": "ba103c52c3384734959322ac8136f1a0",
       "version_major": 2,
       "version_minor": 0
      },
      "text/plain": [
       "  0%|          | 0/252 [00:00<?, ?it/s]"
      ]
     },
     "metadata": {},
     "output_type": "display_data"
    },
    {
     "name": "stdout",
     "output_type": "stream",
     "text": [
      "Epoch [38/100], Loss: 0.0774, Accuracy: 0.9729\n",
      "Validation Loss: 0.8422, Validation Accuracy: 0.8296\n"
     ]
    },
    {
     "name": "stderr",
     "output_type": "stream",
     "text": [
      "/tmp/ipykernel_2395608/2221030542.py:8: TqdmDeprecationWarning: This function will be removed in tqdm==5.0.0\n",
      "Please use `tqdm.notebook.tqdm` instead of `tqdm.tqdm_notebook`\n",
      "  for batch_X, batch_y, batch_X_repo, idx in tqdm.tqdm_notebook(loader):\n"
     ]
    },
    {
     "data": {
      "application/vnd.jupyter.widget-view+json": {
       "model_id": "6c2addd0b19d453a99b0abc17ed17837",
       "version_major": 2,
       "version_minor": 0
      },
      "text/plain": [
       "  0%|          | 0/252 [00:00<?, ?it/s]"
      ]
     },
     "metadata": {},
     "output_type": "display_data"
    },
    {
     "name": "stdout",
     "output_type": "stream",
     "text": [
      "Epoch [39/100], Loss: 0.0632, Accuracy: 0.9764\n",
      "Validation Loss: 0.8965, Validation Accuracy: 0.8245\n"
     ]
    },
    {
     "name": "stderr",
     "output_type": "stream",
     "text": [
      "/tmp/ipykernel_2395608/2221030542.py:8: TqdmDeprecationWarning: This function will be removed in tqdm==5.0.0\n",
      "Please use `tqdm.notebook.tqdm` instead of `tqdm.tqdm_notebook`\n",
      "  for batch_X, batch_y, batch_X_repo, idx in tqdm.tqdm_notebook(loader):\n"
     ]
    },
    {
     "data": {
      "application/vnd.jupyter.widget-view+json": {
       "model_id": "837b97edb1014b1ebebd4b4ff55c2f0e",
       "version_major": 2,
       "version_minor": 0
      },
      "text/plain": [
       "  0%|          | 0/252 [00:00<?, ?it/s]"
      ]
     },
     "metadata": {},
     "output_type": "display_data"
    },
    {
     "name": "stdout",
     "output_type": "stream",
     "text": [
      "Epoch [40/100], Loss: 0.0680, Accuracy: 0.9743\n",
      "Validation Loss: 0.9711, Validation Accuracy: 0.8263\n"
     ]
    },
    {
     "name": "stderr",
     "output_type": "stream",
     "text": [
      "/tmp/ipykernel_2395608/2221030542.py:8: TqdmDeprecationWarning: This function will be removed in tqdm==5.0.0\n",
      "Please use `tqdm.notebook.tqdm` instead of `tqdm.tqdm_notebook`\n",
      "  for batch_X, batch_y, batch_X_repo, idx in tqdm.tqdm_notebook(loader):\n"
     ]
    },
    {
     "data": {
      "application/vnd.jupyter.widget-view+json": {
       "model_id": "e9234802e5c74057ab5799fa5761c3c9",
       "version_major": 2,
       "version_minor": 0
      },
      "text/plain": [
       "  0%|          | 0/252 [00:00<?, ?it/s]"
      ]
     },
     "metadata": {},
     "output_type": "display_data"
    },
    {
     "name": "stdout",
     "output_type": "stream",
     "text": [
      "Epoch [41/100], Loss: 0.0791, Accuracy: 0.9761\n",
      "Validation Loss: 0.8787, Validation Accuracy: 0.8280\n"
     ]
    },
    {
     "name": "stderr",
     "output_type": "stream",
     "text": [
      "/tmp/ipykernel_2395608/2221030542.py:8: TqdmDeprecationWarning: This function will be removed in tqdm==5.0.0\n",
      "Please use `tqdm.notebook.tqdm` instead of `tqdm.tqdm_notebook`\n",
      "  for batch_X, batch_y, batch_X_repo, idx in tqdm.tqdm_notebook(loader):\n"
     ]
    },
    {
     "data": {
      "application/vnd.jupyter.widget-view+json": {
       "model_id": "d9cc6186d9424079ae226b38a41c5b30",
       "version_major": 2,
       "version_minor": 0
      },
      "text/plain": [
       "  0%|          | 0/252 [00:00<?, ?it/s]"
      ]
     },
     "metadata": {},
     "output_type": "display_data"
    },
    {
     "name": "stdout",
     "output_type": "stream",
     "text": [
      "Epoch [42/100], Loss: 0.0719, Accuracy: 0.9752\n",
      "Validation Loss: 0.8497, Validation Accuracy: 0.8291\n"
     ]
    },
    {
     "name": "stderr",
     "output_type": "stream",
     "text": [
      "/tmp/ipykernel_2395608/2221030542.py:8: TqdmDeprecationWarning: This function will be removed in tqdm==5.0.0\n",
      "Please use `tqdm.notebook.tqdm` instead of `tqdm.tqdm_notebook`\n",
      "  for batch_X, batch_y, batch_X_repo, idx in tqdm.tqdm_notebook(loader):\n"
     ]
    },
    {
     "data": {
      "application/vnd.jupyter.widget-view+json": {
       "model_id": "e6e8c72ecb1d439cb124085182fdd5dc",
       "version_major": 2,
       "version_minor": 0
      },
      "text/plain": [
       "  0%|          | 0/252 [00:00<?, ?it/s]"
      ]
     },
     "metadata": {},
     "output_type": "display_data"
    },
    {
     "name": "stdout",
     "output_type": "stream",
     "text": [
      "Epoch [43/100], Loss: 0.0582, Accuracy: 0.9782\n",
      "Validation Loss: 0.8811, Validation Accuracy: 0.8270\n"
     ]
    },
    {
     "name": "stderr",
     "output_type": "stream",
     "text": [
      "/tmp/ipykernel_2395608/2221030542.py:8: TqdmDeprecationWarning: This function will be removed in tqdm==5.0.0\n",
      "Please use `tqdm.notebook.tqdm` instead of `tqdm.tqdm_notebook`\n",
      "  for batch_X, batch_y, batch_X_repo, idx in tqdm.tqdm_notebook(loader):\n"
     ]
    },
    {
     "data": {
      "application/vnd.jupyter.widget-view+json": {
       "model_id": "bb79537fc97845d38493daca55879aaa",
       "version_major": 2,
       "version_minor": 0
      },
      "text/plain": [
       "  0%|          | 0/252 [00:00<?, ?it/s]"
      ]
     },
     "metadata": {},
     "output_type": "display_data"
    },
    {
     "name": "stdout",
     "output_type": "stream",
     "text": [
      "Epoch [44/100], Loss: 0.0708, Accuracy: 0.9747\n",
      "Validation Loss: 0.8272, Validation Accuracy: 0.8297\n"
     ]
    },
    {
     "name": "stderr",
     "output_type": "stream",
     "text": [
      "/tmp/ipykernel_2395608/2221030542.py:8: TqdmDeprecationWarning: This function will be removed in tqdm==5.0.0\n",
      "Please use `tqdm.notebook.tqdm` instead of `tqdm.tqdm_notebook`\n",
      "  for batch_X, batch_y, batch_X_repo, idx in tqdm.tqdm_notebook(loader):\n"
     ]
    },
    {
     "data": {
      "application/vnd.jupyter.widget-view+json": {
       "model_id": "eef28e3714a84ec59c5e4300b569aace",
       "version_major": 2,
       "version_minor": 0
      },
      "text/plain": [
       "  0%|          | 0/252 [00:00<?, ?it/s]"
      ]
     },
     "metadata": {},
     "output_type": "display_data"
    },
    {
     "name": "stdout",
     "output_type": "stream",
     "text": [
      "Epoch [45/100], Loss: 0.0659, Accuracy: 0.9751\n",
      "Validation Loss: 0.8553, Validation Accuracy: 0.8258\n"
     ]
    },
    {
     "name": "stderr",
     "output_type": "stream",
     "text": [
      "/tmp/ipykernel_2395608/2221030542.py:8: TqdmDeprecationWarning: This function will be removed in tqdm==5.0.0\n",
      "Please use `tqdm.notebook.tqdm` instead of `tqdm.tqdm_notebook`\n",
      "  for batch_X, batch_y, batch_X_repo, idx in tqdm.tqdm_notebook(loader):\n"
     ]
    },
    {
     "data": {
      "application/vnd.jupyter.widget-view+json": {
       "model_id": "d42c63c32e864903ac778a1cd2854290",
       "version_major": 2,
       "version_minor": 0
      },
      "text/plain": [
       "  0%|          | 0/252 [00:00<?, ?it/s]"
      ]
     },
     "metadata": {},
     "output_type": "display_data"
    },
    {
     "name": "stdout",
     "output_type": "stream",
     "text": [
      "Epoch [46/100], Loss: 0.0691, Accuracy: 0.9766\n",
      "Validation Loss: 0.8835, Validation Accuracy: 0.8238\n"
     ]
    },
    {
     "name": "stderr",
     "output_type": "stream",
     "text": [
      "/tmp/ipykernel_2395608/2221030542.py:8: TqdmDeprecationWarning: This function will be removed in tqdm==5.0.0\n",
      "Please use `tqdm.notebook.tqdm` instead of `tqdm.tqdm_notebook`\n",
      "  for batch_X, batch_y, batch_X_repo, idx in tqdm.tqdm_notebook(loader):\n"
     ]
    },
    {
     "data": {
      "application/vnd.jupyter.widget-view+json": {
       "model_id": "0db53c158e564b49aa65040af104a007",
       "version_major": 2,
       "version_minor": 0
      },
      "text/plain": [
       "  0%|          | 0/252 [00:00<?, ?it/s]"
      ]
     },
     "metadata": {},
     "output_type": "display_data"
    },
    {
     "name": "stdout",
     "output_type": "stream",
     "text": [
      "Epoch [47/100], Loss: 0.0738, Accuracy: 0.9750\n",
      "Validation Loss: 0.9143, Validation Accuracy: 0.8295\n"
     ]
    },
    {
     "name": "stderr",
     "output_type": "stream",
     "text": [
      "/tmp/ipykernel_2395608/2221030542.py:8: TqdmDeprecationWarning: This function will be removed in tqdm==5.0.0\n",
      "Please use `tqdm.notebook.tqdm` instead of `tqdm.tqdm_notebook`\n",
      "  for batch_X, batch_y, batch_X_repo, idx in tqdm.tqdm_notebook(loader):\n"
     ]
    },
    {
     "data": {
      "application/vnd.jupyter.widget-view+json": {
       "model_id": "fcdafe325e3f4c97ac3dccbb1b18d5f5",
       "version_major": 2,
       "version_minor": 0
      },
      "text/plain": [
       "  0%|          | 0/252 [00:00<?, ?it/s]"
      ]
     },
     "metadata": {},
     "output_type": "display_data"
    },
    {
     "name": "stdout",
     "output_type": "stream",
     "text": [
      "Epoch [48/100], Loss: 0.0691, Accuracy: 0.9768\n",
      "Validation Loss: 0.9604, Validation Accuracy: 0.8241\n"
     ]
    },
    {
     "name": "stderr",
     "output_type": "stream",
     "text": [
      "/tmp/ipykernel_2395608/2221030542.py:8: TqdmDeprecationWarning: This function will be removed in tqdm==5.0.0\n",
      "Please use `tqdm.notebook.tqdm` instead of `tqdm.tqdm_notebook`\n",
      "  for batch_X, batch_y, batch_X_repo, idx in tqdm.tqdm_notebook(loader):\n"
     ]
    },
    {
     "data": {
      "application/vnd.jupyter.widget-view+json": {
       "model_id": "2b84357165ab4e639f529e24739de8fb",
       "version_major": 2,
       "version_minor": 0
      },
      "text/plain": [
       "  0%|          | 0/252 [00:00<?, ?it/s]"
      ]
     },
     "metadata": {},
     "output_type": "display_data"
    },
    {
     "name": "stdout",
     "output_type": "stream",
     "text": [
      "Epoch [49/100], Loss: 0.0532, Accuracy: 0.9807\n",
      "Validation Loss: 0.8888, Validation Accuracy: 0.8259\n"
     ]
    },
    {
     "name": "stderr",
     "output_type": "stream",
     "text": [
      "/tmp/ipykernel_2395608/2221030542.py:8: TqdmDeprecationWarning: This function will be removed in tqdm==5.0.0\n",
      "Please use `tqdm.notebook.tqdm` instead of `tqdm.tqdm_notebook`\n",
      "  for batch_X, batch_y, batch_X_repo, idx in tqdm.tqdm_notebook(loader):\n"
     ]
    },
    {
     "data": {
      "application/vnd.jupyter.widget-view+json": {
       "model_id": "71d92c2582574353bed5f34874587540",
       "version_major": 2,
       "version_minor": 0
      },
      "text/plain": [
       "  0%|          | 0/252 [00:00<?, ?it/s]"
      ]
     },
     "metadata": {},
     "output_type": "display_data"
    },
    {
     "name": "stdout",
     "output_type": "stream",
     "text": [
      "Epoch [50/100], Loss: 0.0690, Accuracy: 0.9777\n",
      "Validation Loss: 0.9426, Validation Accuracy: 0.8237\n"
     ]
    },
    {
     "name": "stderr",
     "output_type": "stream",
     "text": [
      "/tmp/ipykernel_2395608/2221030542.py:8: TqdmDeprecationWarning: This function will be removed in tqdm==5.0.0\n",
      "Please use `tqdm.notebook.tqdm` instead of `tqdm.tqdm_notebook`\n",
      "  for batch_X, batch_y, batch_X_repo, idx in tqdm.tqdm_notebook(loader):\n"
     ]
    },
    {
     "data": {
      "application/vnd.jupyter.widget-view+json": {
       "model_id": "091ffc19c49741e48ccbea05ec8d32aa",
       "version_major": 2,
       "version_minor": 0
      },
      "text/plain": [
       "  0%|          | 0/252 [00:00<?, ?it/s]"
      ]
     },
     "metadata": {},
     "output_type": "display_data"
    },
    {
     "name": "stdout",
     "output_type": "stream",
     "text": [
      "Epoch [51/100], Loss: 0.0661, Accuracy: 0.9786\n",
      "Validation Loss: 0.9171, Validation Accuracy: 0.8294\n"
     ]
    },
    {
     "name": "stderr",
     "output_type": "stream",
     "text": [
      "/tmp/ipykernel_2395608/2221030542.py:8: TqdmDeprecationWarning: This function will be removed in tqdm==5.0.0\n",
      "Please use `tqdm.notebook.tqdm` instead of `tqdm.tqdm_notebook`\n",
      "  for batch_X, batch_y, batch_X_repo, idx in tqdm.tqdm_notebook(loader):\n"
     ]
    },
    {
     "data": {
      "application/vnd.jupyter.widget-view+json": {
       "model_id": "0bc1062066ed44c5b8514aa88294517a",
       "version_major": 2,
       "version_minor": 0
      },
      "text/plain": [
       "  0%|          | 0/252 [00:00<?, ?it/s]"
      ]
     },
     "metadata": {},
     "output_type": "display_data"
    },
    {
     "name": "stdout",
     "output_type": "stream",
     "text": [
      "Epoch [52/100], Loss: 0.0748, Accuracy: 0.9777\n",
      "Validation Loss: 0.8753, Validation Accuracy: 0.8292\n"
     ]
    },
    {
     "name": "stderr",
     "output_type": "stream",
     "text": [
      "/tmp/ipykernel_2395608/2221030542.py:8: TqdmDeprecationWarning: This function will be removed in tqdm==5.0.0\n",
      "Please use `tqdm.notebook.tqdm` instead of `tqdm.tqdm_notebook`\n",
      "  for batch_X, batch_y, batch_X_repo, idx in tqdm.tqdm_notebook(loader):\n"
     ]
    },
    {
     "data": {
      "application/vnd.jupyter.widget-view+json": {
       "model_id": "39a820ed27184d00b32387fe65c9651b",
       "version_major": 2,
       "version_minor": 0
      },
      "text/plain": [
       "  0%|          | 0/252 [00:00<?, ?it/s]"
      ]
     },
     "metadata": {},
     "output_type": "display_data"
    },
    {
     "name": "stdout",
     "output_type": "stream",
     "text": [
      "Epoch [53/100], Loss: 0.0824, Accuracy: 0.9794\n",
      "Validation Loss: 0.9076, Validation Accuracy: 0.8276\n"
     ]
    },
    {
     "name": "stderr",
     "output_type": "stream",
     "text": [
      "/tmp/ipykernel_2395608/2221030542.py:8: TqdmDeprecationWarning: This function will be removed in tqdm==5.0.0\n",
      "Please use `tqdm.notebook.tqdm` instead of `tqdm.tqdm_notebook`\n",
      "  for batch_X, batch_y, batch_X_repo, idx in tqdm.tqdm_notebook(loader):\n"
     ]
    },
    {
     "data": {
      "application/vnd.jupyter.widget-view+json": {
       "model_id": "4785f13554f94a3c96044d9c8c170d98",
       "version_major": 2,
       "version_minor": 0
      },
      "text/plain": [
       "  0%|          | 0/252 [00:00<?, ?it/s]"
      ]
     },
     "metadata": {},
     "output_type": "display_data"
    },
    {
     "name": "stdout",
     "output_type": "stream",
     "text": [
      "Epoch [54/100], Loss: 0.0703, Accuracy: 0.9774\n",
      "Validation Loss: 0.8966, Validation Accuracy: 0.8272\n"
     ]
    },
    {
     "name": "stderr",
     "output_type": "stream",
     "text": [
      "/tmp/ipykernel_2395608/2221030542.py:8: TqdmDeprecationWarning: This function will be removed in tqdm==5.0.0\n",
      "Please use `tqdm.notebook.tqdm` instead of `tqdm.tqdm_notebook`\n",
      "  for batch_X, batch_y, batch_X_repo, idx in tqdm.tqdm_notebook(loader):\n"
     ]
    },
    {
     "data": {
      "application/vnd.jupyter.widget-view+json": {
       "model_id": "49d084bd52c74c0e992e31e018945e7d",
       "version_major": 2,
       "version_minor": 0
      },
      "text/plain": [
       "  0%|          | 0/252 [00:00<?, ?it/s]"
      ]
     },
     "metadata": {},
     "output_type": "display_data"
    },
    {
     "name": "stdout",
     "output_type": "stream",
     "text": [
      "Epoch [55/100], Loss: 0.0800, Accuracy: 0.9779\n",
      "Validation Loss: 0.9071, Validation Accuracy: 0.8295\n"
     ]
    },
    {
     "name": "stderr",
     "output_type": "stream",
     "text": [
      "/tmp/ipykernel_2395608/2221030542.py:8: TqdmDeprecationWarning: This function will be removed in tqdm==5.0.0\n",
      "Please use `tqdm.notebook.tqdm` instead of `tqdm.tqdm_notebook`\n",
      "  for batch_X, batch_y, batch_X_repo, idx in tqdm.tqdm_notebook(loader):\n"
     ]
    },
    {
     "data": {
      "application/vnd.jupyter.widget-view+json": {
       "model_id": "25619cd1597442b088e49a1ff804431e",
       "version_major": 2,
       "version_minor": 0
      },
      "text/plain": [
       "  0%|          | 0/252 [00:00<?, ?it/s]"
      ]
     },
     "metadata": {},
     "output_type": "display_data"
    },
    {
     "name": "stdout",
     "output_type": "stream",
     "text": [
      "Epoch [56/100], Loss: 0.0515, Accuracy: 0.9813\n",
      "Validation Loss: 0.8400, Validation Accuracy: 0.8240\n"
     ]
    },
    {
     "name": "stderr",
     "output_type": "stream",
     "text": [
      "/tmp/ipykernel_2395608/2221030542.py:8: TqdmDeprecationWarning: This function will be removed in tqdm==5.0.0\n",
      "Please use `tqdm.notebook.tqdm` instead of `tqdm.tqdm_notebook`\n",
      "  for batch_X, batch_y, batch_X_repo, idx in tqdm.tqdm_notebook(loader):\n"
     ]
    },
    {
     "data": {
      "application/vnd.jupyter.widget-view+json": {
       "model_id": "74a5cec58b534227bd87f5e78c01929f",
       "version_major": 2,
       "version_minor": 0
      },
      "text/plain": [
       "  0%|          | 0/252 [00:00<?, ?it/s]"
      ]
     },
     "metadata": {},
     "output_type": "display_data"
    },
    {
     "name": "stdout",
     "output_type": "stream",
     "text": [
      "Epoch [57/100], Loss: 0.0499, Accuracy: 0.9816\n",
      "Validation Loss: 0.8431, Validation Accuracy: 0.8293\n"
     ]
    },
    {
     "name": "stderr",
     "output_type": "stream",
     "text": [
      "/tmp/ipykernel_2395608/2221030542.py:8: TqdmDeprecationWarning: This function will be removed in tqdm==5.0.0\n",
      "Please use `tqdm.notebook.tqdm` instead of `tqdm.tqdm_notebook`\n",
      "  for batch_X, batch_y, batch_X_repo, idx in tqdm.tqdm_notebook(loader):\n"
     ]
    },
    {
     "data": {
      "application/vnd.jupyter.widget-view+json": {
       "model_id": "92c4437adfc043f2a8e570c0b4353f97",
       "version_major": 2,
       "version_minor": 0
      },
      "text/plain": [
       "  0%|          | 0/252 [00:00<?, ?it/s]"
      ]
     },
     "metadata": {},
     "output_type": "display_data"
    },
    {
     "name": "stdout",
     "output_type": "stream",
     "text": [
      "Epoch [58/100], Loss: 0.0487, Accuracy: 0.9809\n",
      "Validation Loss: 0.8777, Validation Accuracy: 0.8301\n"
     ]
    },
    {
     "name": "stderr",
     "output_type": "stream",
     "text": [
      "/tmp/ipykernel_2395608/2221030542.py:8: TqdmDeprecationWarning: This function will be removed in tqdm==5.0.0\n",
      "Please use `tqdm.notebook.tqdm` instead of `tqdm.tqdm_notebook`\n",
      "  for batch_X, batch_y, batch_X_repo, idx in tqdm.tqdm_notebook(loader):\n"
     ]
    },
    {
     "data": {
      "application/vnd.jupyter.widget-view+json": {
       "model_id": "6fa408bde9ba4a1d9d9d5362b4aa5bc1",
       "version_major": 2,
       "version_minor": 0
      },
      "text/plain": [
       "  0%|          | 0/252 [00:00<?, ?it/s]"
      ]
     },
     "metadata": {},
     "output_type": "display_data"
    },
    {
     "name": "stdout",
     "output_type": "stream",
     "text": [
      "Epoch [59/100], Loss: 0.0648, Accuracy: 0.9781\n",
      "Validation Loss: 0.8648, Validation Accuracy: 0.8192\n"
     ]
    },
    {
     "name": "stderr",
     "output_type": "stream",
     "text": [
      "/tmp/ipykernel_2395608/2221030542.py:8: TqdmDeprecationWarning: This function will be removed in tqdm==5.0.0\n",
      "Please use `tqdm.notebook.tqdm` instead of `tqdm.tqdm_notebook`\n",
      "  for batch_X, batch_y, batch_X_repo, idx in tqdm.tqdm_notebook(loader):\n"
     ]
    },
    {
     "data": {
      "application/vnd.jupyter.widget-view+json": {
       "model_id": "3f7b284eaee041c0a1f74ea4224710d9",
       "version_major": 2,
       "version_minor": 0
      },
      "text/plain": [
       "  0%|          | 0/252 [00:00<?, ?it/s]"
      ]
     },
     "metadata": {},
     "output_type": "display_data"
    },
    {
     "name": "stdout",
     "output_type": "stream",
     "text": [
      "Epoch [60/100], Loss: 0.0521, Accuracy: 0.9821\n",
      "Validation Loss: 0.8840, Validation Accuracy: 0.8277\n"
     ]
    },
    {
     "name": "stderr",
     "output_type": "stream",
     "text": [
      "/tmp/ipykernel_2395608/2221030542.py:8: TqdmDeprecationWarning: This function will be removed in tqdm==5.0.0\n",
      "Please use `tqdm.notebook.tqdm` instead of `tqdm.tqdm_notebook`\n",
      "  for batch_X, batch_y, batch_X_repo, idx in tqdm.tqdm_notebook(loader):\n"
     ]
    },
    {
     "data": {
      "application/vnd.jupyter.widget-view+json": {
       "model_id": "f0f1b0fdd3294b3cad9306a2cc7be25f",
       "version_major": 2,
       "version_minor": 0
      },
      "text/plain": [
       "  0%|          | 0/252 [00:00<?, ?it/s]"
      ]
     },
     "metadata": {},
     "output_type": "display_data"
    },
    {
     "name": "stdout",
     "output_type": "stream",
     "text": [
      "Epoch [61/100], Loss: 0.0625, Accuracy: 0.9791\n",
      "Validation Loss: 0.8294, Validation Accuracy: 0.8264\n"
     ]
    },
    {
     "name": "stderr",
     "output_type": "stream",
     "text": [
      "/tmp/ipykernel_2395608/2221030542.py:8: TqdmDeprecationWarning: This function will be removed in tqdm==5.0.0\n",
      "Please use `tqdm.notebook.tqdm` instead of `tqdm.tqdm_notebook`\n",
      "  for batch_X, batch_y, batch_X_repo, idx in tqdm.tqdm_notebook(loader):\n"
     ]
    },
    {
     "data": {
      "application/vnd.jupyter.widget-view+json": {
       "model_id": "d81d15f189d14b9887754acccd6553b8",
       "version_major": 2,
       "version_minor": 0
      },
      "text/plain": [
       "  0%|          | 0/252 [00:00<?, ?it/s]"
      ]
     },
     "metadata": {},
     "output_type": "display_data"
    },
    {
     "name": "stdout",
     "output_type": "stream",
     "text": [
      "Epoch [62/100], Loss: 0.0495, Accuracy: 0.9812\n",
      "Validation Loss: 0.8354, Validation Accuracy: 0.8260\n"
     ]
    },
    {
     "name": "stderr",
     "output_type": "stream",
     "text": [
      "/tmp/ipykernel_2395608/2221030542.py:8: TqdmDeprecationWarning: This function will be removed in tqdm==5.0.0\n",
      "Please use `tqdm.notebook.tqdm` instead of `tqdm.tqdm_notebook`\n",
      "  for batch_X, batch_y, batch_X_repo, idx in tqdm.tqdm_notebook(loader):\n"
     ]
    },
    {
     "data": {
      "application/vnd.jupyter.widget-view+json": {
       "model_id": "33087386f536428196708232e37ec74f",
       "version_major": 2,
       "version_minor": 0
      },
      "text/plain": [
       "  0%|          | 0/252 [00:00<?, ?it/s]"
      ]
     },
     "metadata": {},
     "output_type": "display_data"
    },
    {
     "name": "stdout",
     "output_type": "stream",
     "text": [
      "Epoch [63/100], Loss: 0.0735, Accuracy: 0.9795\n",
      "Validation Loss: 0.8875, Validation Accuracy: 0.8265\n"
     ]
    },
    {
     "name": "stderr",
     "output_type": "stream",
     "text": [
      "/tmp/ipykernel_2395608/2221030542.py:8: TqdmDeprecationWarning: This function will be removed in tqdm==5.0.0\n",
      "Please use `tqdm.notebook.tqdm` instead of `tqdm.tqdm_notebook`\n",
      "  for batch_X, batch_y, batch_X_repo, idx in tqdm.tqdm_notebook(loader):\n"
     ]
    },
    {
     "data": {
      "application/vnd.jupyter.widget-view+json": {
       "model_id": "2edf7ee41fb6432d8ada24d680be9717",
       "version_major": 2,
       "version_minor": 0
      },
      "text/plain": [
       "  0%|          | 0/252 [00:00<?, ?it/s]"
      ]
     },
     "metadata": {},
     "output_type": "display_data"
    },
    {
     "name": "stdout",
     "output_type": "stream",
     "text": [
      "Epoch [64/100], Loss: 0.0561, Accuracy: 0.9808\n",
      "Validation Loss: 0.8711, Validation Accuracy: 0.8330\n"
     ]
    },
    {
     "name": "stderr",
     "output_type": "stream",
     "text": [
      "/tmp/ipykernel_2395608/2221030542.py:8: TqdmDeprecationWarning: This function will be removed in tqdm==5.0.0\n",
      "Please use `tqdm.notebook.tqdm` instead of `tqdm.tqdm_notebook`\n",
      "  for batch_X, batch_y, batch_X_repo, idx in tqdm.tqdm_notebook(loader):\n"
     ]
    },
    {
     "data": {
      "application/vnd.jupyter.widget-view+json": {
       "model_id": "a636fe3231434762ac7940391ec42f96",
       "version_major": 2,
       "version_minor": 0
      },
      "text/plain": [
       "  0%|          | 0/252 [00:00<?, ?it/s]"
      ]
     },
     "metadata": {},
     "output_type": "display_data"
    },
    {
     "name": "stdout",
     "output_type": "stream",
     "text": [
      "Epoch [65/100], Loss: 0.0474, Accuracy: 0.9818\n",
      "Validation Loss: 0.9184, Validation Accuracy: 0.8293\n"
     ]
    },
    {
     "name": "stderr",
     "output_type": "stream",
     "text": [
      "/tmp/ipykernel_2395608/2221030542.py:8: TqdmDeprecationWarning: This function will be removed in tqdm==5.0.0\n",
      "Please use `tqdm.notebook.tqdm` instead of `tqdm.tqdm_notebook`\n",
      "  for batch_X, batch_y, batch_X_repo, idx in tqdm.tqdm_notebook(loader):\n"
     ]
    },
    {
     "data": {
      "application/vnd.jupyter.widget-view+json": {
       "model_id": "457ba6e54fff4a72bc0322fd6114758e",
       "version_major": 2,
       "version_minor": 0
      },
      "text/plain": [
       "  0%|          | 0/252 [00:00<?, ?it/s]"
      ]
     },
     "metadata": {},
     "output_type": "display_data"
    },
    {
     "name": "stdout",
     "output_type": "stream",
     "text": [
      "Epoch [66/100], Loss: 0.0689, Accuracy: 0.9791\n",
      "Validation Loss: 0.8764, Validation Accuracy: 0.8212\n"
     ]
    },
    {
     "name": "stderr",
     "output_type": "stream",
     "text": [
      "/tmp/ipykernel_2395608/2221030542.py:8: TqdmDeprecationWarning: This function will be removed in tqdm==5.0.0\n",
      "Please use `tqdm.notebook.tqdm` instead of `tqdm.tqdm_notebook`\n",
      "  for batch_X, batch_y, batch_X_repo, idx in tqdm.tqdm_notebook(loader):\n"
     ]
    },
    {
     "data": {
      "application/vnd.jupyter.widget-view+json": {
       "model_id": "d60196f89b7842089d8f88b41f86ddf6",
       "version_major": 2,
       "version_minor": 0
      },
      "text/plain": [
       "  0%|          | 0/252 [00:00<?, ?it/s]"
      ]
     },
     "metadata": {},
     "output_type": "display_data"
    },
    {
     "name": "stdout",
     "output_type": "stream",
     "text": [
      "Epoch [67/100], Loss: 0.0472, Accuracy: 0.9815\n",
      "Validation Loss: 0.8620, Validation Accuracy: 0.8295\n"
     ]
    },
    {
     "name": "stderr",
     "output_type": "stream",
     "text": [
      "/tmp/ipykernel_2395608/2221030542.py:8: TqdmDeprecationWarning: This function will be removed in tqdm==5.0.0\n",
      "Please use `tqdm.notebook.tqdm` instead of `tqdm.tqdm_notebook`\n",
      "  for batch_X, batch_y, batch_X_repo, idx in tqdm.tqdm_notebook(loader):\n"
     ]
    },
    {
     "data": {
      "application/vnd.jupyter.widget-view+json": {
       "model_id": "2646709291a54885b7c511c25a5831a6",
       "version_major": 2,
       "version_minor": 0
      },
      "text/plain": [
       "  0%|          | 0/252 [00:00<?, ?it/s]"
      ]
     },
     "metadata": {},
     "output_type": "display_data"
    },
    {
     "name": "stdout",
     "output_type": "stream",
     "text": [
      "Epoch [68/100], Loss: 0.0585, Accuracy: 0.9814\n",
      "Validation Loss: 0.8925, Validation Accuracy: 0.8257\n"
     ]
    },
    {
     "name": "stderr",
     "output_type": "stream",
     "text": [
      "/tmp/ipykernel_2395608/2221030542.py:8: TqdmDeprecationWarning: This function will be removed in tqdm==5.0.0\n",
      "Please use `tqdm.notebook.tqdm` instead of `tqdm.tqdm_notebook`\n",
      "  for batch_X, batch_y, batch_X_repo, idx in tqdm.tqdm_notebook(loader):\n"
     ]
    },
    {
     "data": {
      "application/vnd.jupyter.widget-view+json": {
       "model_id": "1aee75e9a45040c490ebbebb617a3d4d",
       "version_major": 2,
       "version_minor": 0
      },
      "text/plain": [
       "  0%|          | 0/252 [00:00<?, ?it/s]"
      ]
     },
     "metadata": {},
     "output_type": "display_data"
    },
    {
     "name": "stdout",
     "output_type": "stream",
     "text": [
      "Epoch [69/100], Loss: 0.0589, Accuracy: 0.9780\n",
      "Validation Loss: 0.9573, Validation Accuracy: 0.8278\n"
     ]
    },
    {
     "name": "stderr",
     "output_type": "stream",
     "text": [
      "/tmp/ipykernel_2395608/2221030542.py:8: TqdmDeprecationWarning: This function will be removed in tqdm==5.0.0\n",
      "Please use `tqdm.notebook.tqdm` instead of `tqdm.tqdm_notebook`\n",
      "  for batch_X, batch_y, batch_X_repo, idx in tqdm.tqdm_notebook(loader):\n"
     ]
    },
    {
     "data": {
      "application/vnd.jupyter.widget-view+json": {
       "model_id": "5503152b265440dd82f273a1835214c9",
       "version_major": 2,
       "version_minor": 0
      },
      "text/plain": [
       "  0%|          | 0/252 [00:00<?, ?it/s]"
      ]
     },
     "metadata": {},
     "output_type": "display_data"
    },
    {
     "name": "stdout",
     "output_type": "stream",
     "text": [
      "Epoch [70/100], Loss: 0.0701, Accuracy: 0.9803\n",
      "Validation Loss: 0.8960, Validation Accuracy: 0.8250\n"
     ]
    },
    {
     "name": "stderr",
     "output_type": "stream",
     "text": [
      "/tmp/ipykernel_2395608/2221030542.py:8: TqdmDeprecationWarning: This function will be removed in tqdm==5.0.0\n",
      "Please use `tqdm.notebook.tqdm` instead of `tqdm.tqdm_notebook`\n",
      "  for batch_X, batch_y, batch_X_repo, idx in tqdm.tqdm_notebook(loader):\n"
     ]
    },
    {
     "data": {
      "application/vnd.jupyter.widget-view+json": {
       "model_id": "391ba2469ec5473e94621b2b75595d36",
       "version_major": 2,
       "version_minor": 0
      },
      "text/plain": [
       "  0%|          | 0/252 [00:00<?, ?it/s]"
      ]
     },
     "metadata": {},
     "output_type": "display_data"
    },
    {
     "name": "stdout",
     "output_type": "stream",
     "text": [
      "Epoch [71/100], Loss: 0.0513, Accuracy: 0.9816\n",
      "Validation Loss: 0.8917, Validation Accuracy: 0.8236\n"
     ]
    },
    {
     "name": "stderr",
     "output_type": "stream",
     "text": [
      "/tmp/ipykernel_2395608/2221030542.py:8: TqdmDeprecationWarning: This function will be removed in tqdm==5.0.0\n",
      "Please use `tqdm.notebook.tqdm` instead of `tqdm.tqdm_notebook`\n",
      "  for batch_X, batch_y, batch_X_repo, idx in tqdm.tqdm_notebook(loader):\n"
     ]
    },
    {
     "data": {
      "application/vnd.jupyter.widget-view+json": {
       "model_id": "c2d314ccfa8244d0a3fbf1b671186bab",
       "version_major": 2,
       "version_minor": 0
      },
      "text/plain": [
       "  0%|          | 0/252 [00:00<?, ?it/s]"
      ]
     },
     "metadata": {},
     "output_type": "display_data"
    },
    {
     "name": "stdout",
     "output_type": "stream",
     "text": [
      "Epoch [72/100], Loss: 0.0678, Accuracy: 0.9764\n",
      "Validation Loss: 0.8580, Validation Accuracy: 0.8262\n"
     ]
    },
    {
     "name": "stderr",
     "output_type": "stream",
     "text": [
      "/tmp/ipykernel_2395608/2221030542.py:8: TqdmDeprecationWarning: This function will be removed in tqdm==5.0.0\n",
      "Please use `tqdm.notebook.tqdm` instead of `tqdm.tqdm_notebook`\n",
      "  for batch_X, batch_y, batch_X_repo, idx in tqdm.tqdm_notebook(loader):\n"
     ]
    },
    {
     "data": {
      "application/vnd.jupyter.widget-view+json": {
       "model_id": "096097d3855f4ccd83547453303e45ef",
       "version_major": 2,
       "version_minor": 0
      },
      "text/plain": [
       "  0%|          | 0/252 [00:00<?, ?it/s]"
      ]
     },
     "metadata": {},
     "output_type": "display_data"
    },
    {
     "name": "stdout",
     "output_type": "stream",
     "text": [
      "Epoch [73/100], Loss: 0.0596, Accuracy: 0.9777\n",
      "Validation Loss: 0.9265, Validation Accuracy: 0.8271\n"
     ]
    },
    {
     "name": "stderr",
     "output_type": "stream",
     "text": [
      "/tmp/ipykernel_2395608/2221030542.py:8: TqdmDeprecationWarning: This function will be removed in tqdm==5.0.0\n",
      "Please use `tqdm.notebook.tqdm` instead of `tqdm.tqdm_notebook`\n",
      "  for batch_X, batch_y, batch_X_repo, idx in tqdm.tqdm_notebook(loader):\n"
     ]
    },
    {
     "data": {
      "application/vnd.jupyter.widget-view+json": {
       "model_id": "dd89331a5f1e4910bdb44e9daeecaa2a",
       "version_major": 2,
       "version_minor": 0
      },
      "text/plain": [
       "  0%|          | 0/252 [00:00<?, ?it/s]"
      ]
     },
     "metadata": {},
     "output_type": "display_data"
    },
    {
     "name": "stdout",
     "output_type": "stream",
     "text": [
      "Epoch [74/100], Loss: 0.0524, Accuracy: 0.9817\n",
      "Validation Loss: 0.8637, Validation Accuracy: 0.8238\n"
     ]
    },
    {
     "name": "stderr",
     "output_type": "stream",
     "text": [
      "/tmp/ipykernel_2395608/2221030542.py:8: TqdmDeprecationWarning: This function will be removed in tqdm==5.0.0\n",
      "Please use `tqdm.notebook.tqdm` instead of `tqdm.tqdm_notebook`\n",
      "  for batch_X, batch_y, batch_X_repo, idx in tqdm.tqdm_notebook(loader):\n"
     ]
    },
    {
     "data": {
      "application/vnd.jupyter.widget-view+json": {
       "model_id": "6a7805ca0cdf4a218d52a3d74df65065",
       "version_major": 2,
       "version_minor": 0
      },
      "text/plain": [
       "  0%|          | 0/252 [00:00<?, ?it/s]"
      ]
     },
     "metadata": {},
     "output_type": "display_data"
    },
    {
     "name": "stdout",
     "output_type": "stream",
     "text": [
      "Epoch [75/100], Loss: 0.0535, Accuracy: 0.9796\n",
      "Validation Loss: 0.9022, Validation Accuracy: 0.8268\n"
     ]
    },
    {
     "name": "stderr",
     "output_type": "stream",
     "text": [
      "/tmp/ipykernel_2395608/2221030542.py:8: TqdmDeprecationWarning: This function will be removed in tqdm==5.0.0\n",
      "Please use `tqdm.notebook.tqdm` instead of `tqdm.tqdm_notebook`\n",
      "  for batch_X, batch_y, batch_X_repo, idx in tqdm.tqdm_notebook(loader):\n"
     ]
    },
    {
     "data": {
      "application/vnd.jupyter.widget-view+json": {
       "model_id": "8a65e00bf90246b9afa02ad896471431",
       "version_major": 2,
       "version_minor": 0
      },
      "text/plain": [
       "  0%|          | 0/252 [00:00<?, ?it/s]"
      ]
     },
     "metadata": {},
     "output_type": "display_data"
    },
    {
     "name": "stdout",
     "output_type": "stream",
     "text": [
      "Epoch [76/100], Loss: 0.0640, Accuracy: 0.9776\n",
      "Validation Loss: 0.9106, Validation Accuracy: 0.8280\n"
     ]
    },
    {
     "name": "stderr",
     "output_type": "stream",
     "text": [
      "/tmp/ipykernel_2395608/2221030542.py:8: TqdmDeprecationWarning: This function will be removed in tqdm==5.0.0\n",
      "Please use `tqdm.notebook.tqdm` instead of `tqdm.tqdm_notebook`\n",
      "  for batch_X, batch_y, batch_X_repo, idx in tqdm.tqdm_notebook(loader):\n"
     ]
    },
    {
     "data": {
      "application/vnd.jupyter.widget-view+json": {
       "model_id": "de67376cda334c5dac6cfafc9f12aca1",
       "version_major": 2,
       "version_minor": 0
      },
      "text/plain": [
       "  0%|          | 0/252 [00:00<?, ?it/s]"
      ]
     },
     "metadata": {},
     "output_type": "display_data"
    },
    {
     "name": "stdout",
     "output_type": "stream",
     "text": [
      "Epoch [77/100], Loss: 0.0503, Accuracy: 0.9826\n",
      "Validation Loss: 0.9040, Validation Accuracy: 0.8275\n"
     ]
    },
    {
     "name": "stderr",
     "output_type": "stream",
     "text": [
      "/tmp/ipykernel_2395608/2221030542.py:8: TqdmDeprecationWarning: This function will be removed in tqdm==5.0.0\n",
      "Please use `tqdm.notebook.tqdm` instead of `tqdm.tqdm_notebook`\n",
      "  for batch_X, batch_y, batch_X_repo, idx in tqdm.tqdm_notebook(loader):\n"
     ]
    },
    {
     "data": {
      "application/vnd.jupyter.widget-view+json": {
       "model_id": "2f7102fcba3849fcb0ff16ed8d288a4f",
       "version_major": 2,
       "version_minor": 0
      },
      "text/plain": [
       "  0%|          | 0/252 [00:00<?, ?it/s]"
      ]
     },
     "metadata": {},
     "output_type": "display_data"
    },
    {
     "name": "stdout",
     "output_type": "stream",
     "text": [
      "Epoch [78/100], Loss: 0.0704, Accuracy: 0.9792\n",
      "Validation Loss: 0.9077, Validation Accuracy: 0.8297\n"
     ]
    },
    {
     "name": "stderr",
     "output_type": "stream",
     "text": [
      "/tmp/ipykernel_2395608/2221030542.py:8: TqdmDeprecationWarning: This function will be removed in tqdm==5.0.0\n",
      "Please use `tqdm.notebook.tqdm` instead of `tqdm.tqdm_notebook`\n",
      "  for batch_X, batch_y, batch_X_repo, idx in tqdm.tqdm_notebook(loader):\n"
     ]
    },
    {
     "data": {
      "application/vnd.jupyter.widget-view+json": {
       "model_id": "266f9b0273c74323ad712612b2abd51c",
       "version_major": 2,
       "version_minor": 0
      },
      "text/plain": [
       "  0%|          | 0/252 [00:00<?, ?it/s]"
      ]
     },
     "metadata": {},
     "output_type": "display_data"
    },
    {
     "name": "stdout",
     "output_type": "stream",
     "text": [
      "Epoch [79/100], Loss: 0.0503, Accuracy: 0.9821\n",
      "Validation Loss: 0.8978, Validation Accuracy: 0.8286\n"
     ]
    },
    {
     "name": "stderr",
     "output_type": "stream",
     "text": [
      "/tmp/ipykernel_2395608/2221030542.py:8: TqdmDeprecationWarning: This function will be removed in tqdm==5.0.0\n",
      "Please use `tqdm.notebook.tqdm` instead of `tqdm.tqdm_notebook`\n",
      "  for batch_X, batch_y, batch_X_repo, idx in tqdm.tqdm_notebook(loader):\n"
     ]
    },
    {
     "data": {
      "application/vnd.jupyter.widget-view+json": {
       "model_id": "7ffa5a27b3f042899f249d7f44b2cac4",
       "version_major": 2,
       "version_minor": 0
      },
      "text/plain": [
       "  0%|          | 0/252 [00:00<?, ?it/s]"
      ]
     },
     "metadata": {},
     "output_type": "display_data"
    },
    {
     "name": "stdout",
     "output_type": "stream",
     "text": [
      "Epoch [80/100], Loss: 0.0684, Accuracy: 0.9774\n",
      "Validation Loss: 0.8956, Validation Accuracy: 0.8225\n"
     ]
    },
    {
     "name": "stderr",
     "output_type": "stream",
     "text": [
      "/tmp/ipykernel_2395608/2221030542.py:8: TqdmDeprecationWarning: This function will be removed in tqdm==5.0.0\n",
      "Please use `tqdm.notebook.tqdm` instead of `tqdm.tqdm_notebook`\n",
      "  for batch_X, batch_y, batch_X_repo, idx in tqdm.tqdm_notebook(loader):\n"
     ]
    },
    {
     "data": {
      "application/vnd.jupyter.widget-view+json": {
       "model_id": "cf3715542bc242bcaf3cac3bb0583f1d",
       "version_major": 2,
       "version_minor": 0
      },
      "text/plain": [
       "  0%|          | 0/252 [00:00<?, ?it/s]"
      ]
     },
     "metadata": {},
     "output_type": "display_data"
    },
    {
     "name": "stdout",
     "output_type": "stream",
     "text": [
      "Epoch [81/100], Loss: 0.0717, Accuracy: 0.9799\n",
      "Validation Loss: 0.9120, Validation Accuracy: 0.8257\n"
     ]
    },
    {
     "name": "stderr",
     "output_type": "stream",
     "text": [
      "/tmp/ipykernel_2395608/2221030542.py:8: TqdmDeprecationWarning: This function will be removed in tqdm==5.0.0\n",
      "Please use `tqdm.notebook.tqdm` instead of `tqdm.tqdm_notebook`\n",
      "  for batch_X, batch_y, batch_X_repo, idx in tqdm.tqdm_notebook(loader):\n"
     ]
    },
    {
     "data": {
      "application/vnd.jupyter.widget-view+json": {
       "model_id": "e284d066dac146bf901d9f8fad3cab49",
       "version_major": 2,
       "version_minor": 0
      },
      "text/plain": [
       "  0%|          | 0/252 [00:00<?, ?it/s]"
      ]
     },
     "metadata": {},
     "output_type": "display_data"
    },
    {
     "name": "stdout",
     "output_type": "stream",
     "text": [
      "Epoch [82/100], Loss: 0.0636, Accuracy: 0.9785\n",
      "Validation Loss: 0.9505, Validation Accuracy: 0.8273\n"
     ]
    },
    {
     "name": "stderr",
     "output_type": "stream",
     "text": [
      "/tmp/ipykernel_2395608/2221030542.py:8: TqdmDeprecationWarning: This function will be removed in tqdm==5.0.0\n",
      "Please use `tqdm.notebook.tqdm` instead of `tqdm.tqdm_notebook`\n",
      "  for batch_X, batch_y, batch_X_repo, idx in tqdm.tqdm_notebook(loader):\n"
     ]
    },
    {
     "data": {
      "application/vnd.jupyter.widget-view+json": {
       "model_id": "3a9136dc762b4554a692fb8251b7e453",
       "version_major": 2,
       "version_minor": 0
      },
      "text/plain": [
       "  0%|          | 0/252 [00:00<?, ?it/s]"
      ]
     },
     "metadata": {},
     "output_type": "display_data"
    },
    {
     "name": "stdout",
     "output_type": "stream",
     "text": [
      "Epoch [83/100], Loss: 0.0526, Accuracy: 0.9803\n",
      "Validation Loss: 0.9253, Validation Accuracy: 0.8211\n"
     ]
    },
    {
     "name": "stderr",
     "output_type": "stream",
     "text": [
      "/tmp/ipykernel_2395608/2221030542.py:8: TqdmDeprecationWarning: This function will be removed in tqdm==5.0.0\n",
      "Please use `tqdm.notebook.tqdm` instead of `tqdm.tqdm_notebook`\n",
      "  for batch_X, batch_y, batch_X_repo, idx in tqdm.tqdm_notebook(loader):\n"
     ]
    },
    {
     "data": {
      "application/vnd.jupyter.widget-view+json": {
       "model_id": "4236d98ca7f64b46b22c3d88e89eeec3",
       "version_major": 2,
       "version_minor": 0
      },
      "text/plain": [
       "  0%|          | 0/252 [00:00<?, ?it/s]"
      ]
     },
     "metadata": {},
     "output_type": "display_data"
    },
    {
     "name": "stdout",
     "output_type": "stream",
     "text": [
      "Epoch [84/100], Loss: 0.0703, Accuracy: 0.9798\n",
      "Validation Loss: 0.9248, Validation Accuracy: 0.8251\n"
     ]
    },
    {
     "name": "stderr",
     "output_type": "stream",
     "text": [
      "/tmp/ipykernel_2395608/2221030542.py:8: TqdmDeprecationWarning: This function will be removed in tqdm==5.0.0\n",
      "Please use `tqdm.notebook.tqdm` instead of `tqdm.tqdm_notebook`\n",
      "  for batch_X, batch_y, batch_X_repo, idx in tqdm.tqdm_notebook(loader):\n"
     ]
    },
    {
     "data": {
      "application/vnd.jupyter.widget-view+json": {
       "model_id": "36d86b50a9304681bd948aabaf0cbfec",
       "version_major": 2,
       "version_minor": 0
      },
      "text/plain": [
       "  0%|          | 0/252 [00:00<?, ?it/s]"
      ]
     },
     "metadata": {},
     "output_type": "display_data"
    },
    {
     "name": "stdout",
     "output_type": "stream",
     "text": [
      "Epoch [85/100], Loss: 0.0526, Accuracy: 0.9810\n",
      "Validation Loss: 0.8995, Validation Accuracy: 0.8237\n"
     ]
    },
    {
     "name": "stderr",
     "output_type": "stream",
     "text": [
      "/tmp/ipykernel_2395608/2221030542.py:8: TqdmDeprecationWarning: This function will be removed in tqdm==5.0.0\n",
      "Please use `tqdm.notebook.tqdm` instead of `tqdm.tqdm_notebook`\n",
      "  for batch_X, batch_y, batch_X_repo, idx in tqdm.tqdm_notebook(loader):\n"
     ]
    },
    {
     "data": {
      "application/vnd.jupyter.widget-view+json": {
       "model_id": "f071d22a58ba43a8ad248823a9b69890",
       "version_major": 2,
       "version_minor": 0
      },
      "text/plain": [
       "  0%|          | 0/252 [00:00<?, ?it/s]"
      ]
     },
     "metadata": {},
     "output_type": "display_data"
    },
    {
     "name": "stdout",
     "output_type": "stream",
     "text": [
      "Epoch [86/100], Loss: 0.0692, Accuracy: 0.9771\n",
      "Validation Loss: 0.9104, Validation Accuracy: 0.8232\n"
     ]
    },
    {
     "name": "stderr",
     "output_type": "stream",
     "text": [
      "/tmp/ipykernel_2395608/2221030542.py:8: TqdmDeprecationWarning: This function will be removed in tqdm==5.0.0\n",
      "Please use `tqdm.notebook.tqdm` instead of `tqdm.tqdm_notebook`\n",
      "  for batch_X, batch_y, batch_X_repo, idx in tqdm.tqdm_notebook(loader):\n"
     ]
    },
    {
     "data": {
      "application/vnd.jupyter.widget-view+json": {
       "model_id": "cd2d3328b1a6489590d8504fcc4d1bfb",
       "version_major": 2,
       "version_minor": 0
      },
      "text/plain": [
       "  0%|          | 0/252 [00:00<?, ?it/s]"
      ]
     },
     "metadata": {},
     "output_type": "display_data"
    },
    {
     "name": "stdout",
     "output_type": "stream",
     "text": [
      "Epoch [87/100], Loss: 0.0518, Accuracy: 0.9807\n",
      "Validation Loss: 0.9427, Validation Accuracy: 0.8275\n"
     ]
    },
    {
     "name": "stderr",
     "output_type": "stream",
     "text": [
      "/tmp/ipykernel_2395608/2221030542.py:8: TqdmDeprecationWarning: This function will be removed in tqdm==5.0.0\n",
      "Please use `tqdm.notebook.tqdm` instead of `tqdm.tqdm_notebook`\n",
      "  for batch_X, batch_y, batch_X_repo, idx in tqdm.tqdm_notebook(loader):\n"
     ]
    },
    {
     "data": {
      "application/vnd.jupyter.widget-view+json": {
       "model_id": "38af9d3de76c4c1f8aff8af1638a3d54",
       "version_major": 2,
       "version_minor": 0
      },
      "text/plain": [
       "  0%|          | 0/252 [00:00<?, ?it/s]"
      ]
     },
     "metadata": {},
     "output_type": "display_data"
    },
    {
     "name": "stdout",
     "output_type": "stream",
     "text": [
      "Epoch [88/100], Loss: 0.0572, Accuracy: 0.9793\n",
      "Validation Loss: 0.9011, Validation Accuracy: 0.8268\n"
     ]
    },
    {
     "name": "stderr",
     "output_type": "stream",
     "text": [
      "/tmp/ipykernel_2395608/2221030542.py:8: TqdmDeprecationWarning: This function will be removed in tqdm==5.0.0\n",
      "Please use `tqdm.notebook.tqdm` instead of `tqdm.tqdm_notebook`\n",
      "  for batch_X, batch_y, batch_X_repo, idx in tqdm.tqdm_notebook(loader):\n"
     ]
    },
    {
     "data": {
      "application/vnd.jupyter.widget-view+json": {
       "model_id": "4b685ab35dfa445e8872533c0d51657c",
       "version_major": 2,
       "version_minor": 0
      },
      "text/plain": [
       "  0%|          | 0/252 [00:00<?, ?it/s]"
      ]
     },
     "metadata": {},
     "output_type": "display_data"
    },
    {
     "name": "stdout",
     "output_type": "stream",
     "text": [
      "Epoch [89/100], Loss: 0.0562, Accuracy: 0.9786\n",
      "Validation Loss: 0.9043, Validation Accuracy: 0.8247\n"
     ]
    },
    {
     "name": "stderr",
     "output_type": "stream",
     "text": [
      "/tmp/ipykernel_2395608/2221030542.py:8: TqdmDeprecationWarning: This function will be removed in tqdm==5.0.0\n",
      "Please use `tqdm.notebook.tqdm` instead of `tqdm.tqdm_notebook`\n",
      "  for batch_X, batch_y, batch_X_repo, idx in tqdm.tqdm_notebook(loader):\n"
     ]
    },
    {
     "data": {
      "application/vnd.jupyter.widget-view+json": {
       "model_id": "39e91d450cf34dbc9304ff3ab939e6d3",
       "version_major": 2,
       "version_minor": 0
      },
      "text/plain": [
       "  0%|          | 0/252 [00:00<?, ?it/s]"
      ]
     },
     "metadata": {},
     "output_type": "display_data"
    },
    {
     "name": "stdout",
     "output_type": "stream",
     "text": [
      "Epoch [90/100], Loss: 0.0649, Accuracy: 0.9767\n",
      "Validation Loss: 0.9079, Validation Accuracy: 0.8269\n"
     ]
    },
    {
     "name": "stderr",
     "output_type": "stream",
     "text": [
      "/tmp/ipykernel_2395608/2221030542.py:8: TqdmDeprecationWarning: This function will be removed in tqdm==5.0.0\n",
      "Please use `tqdm.notebook.tqdm` instead of `tqdm.tqdm_notebook`\n",
      "  for batch_X, batch_y, batch_X_repo, idx in tqdm.tqdm_notebook(loader):\n"
     ]
    },
    {
     "data": {
      "application/vnd.jupyter.widget-view+json": {
       "model_id": "dff97b3388b9420b94a2bc916a131247",
       "version_major": 2,
       "version_minor": 0
      },
      "text/plain": [
       "  0%|          | 0/252 [00:00<?, ?it/s]"
      ]
     },
     "metadata": {},
     "output_type": "display_data"
    },
    {
     "name": "stdout",
     "output_type": "stream",
     "text": [
      "Epoch [91/100], Loss: 0.0547, Accuracy: 0.9790\n",
      "Validation Loss: 0.9404, Validation Accuracy: 0.8268\n"
     ]
    },
    {
     "name": "stderr",
     "output_type": "stream",
     "text": [
      "/tmp/ipykernel_2395608/2221030542.py:8: TqdmDeprecationWarning: This function will be removed in tqdm==5.0.0\n",
      "Please use `tqdm.notebook.tqdm` instead of `tqdm.tqdm_notebook`\n",
      "  for batch_X, batch_y, batch_X_repo, idx in tqdm.tqdm_notebook(loader):\n"
     ]
    },
    {
     "data": {
      "application/vnd.jupyter.widget-view+json": {
       "model_id": "fce858a11531481d9417e1f367bb93a1",
       "version_major": 2,
       "version_minor": 0
      },
      "text/plain": [
       "  0%|          | 0/252 [00:00<?, ?it/s]"
      ]
     },
     "metadata": {},
     "output_type": "display_data"
    },
    {
     "name": "stdout",
     "output_type": "stream",
     "text": [
      "Epoch [92/100], Loss: 0.0560, Accuracy: 0.9798\n",
      "Validation Loss: 0.8754, Validation Accuracy: 0.8264\n"
     ]
    },
    {
     "name": "stderr",
     "output_type": "stream",
     "text": [
      "/tmp/ipykernel_2395608/2221030542.py:8: TqdmDeprecationWarning: This function will be removed in tqdm==5.0.0\n",
      "Please use `tqdm.notebook.tqdm` instead of `tqdm.tqdm_notebook`\n",
      "  for batch_X, batch_y, batch_X_repo, idx in tqdm.tqdm_notebook(loader):\n"
     ]
    },
    {
     "data": {
      "application/vnd.jupyter.widget-view+json": {
       "model_id": "8f54051e8b7f43c7980bdb30a483505f",
       "version_major": 2,
       "version_minor": 0
      },
      "text/plain": [
       "  0%|          | 0/252 [00:00<?, ?it/s]"
      ]
     },
     "metadata": {},
     "output_type": "display_data"
    },
    {
     "name": "stdout",
     "output_type": "stream",
     "text": [
      "Epoch [93/100], Loss: 0.0732, Accuracy: 0.9761\n",
      "Validation Loss: 0.9535, Validation Accuracy: 0.8222\n"
     ]
    },
    {
     "name": "stderr",
     "output_type": "stream",
     "text": [
      "/tmp/ipykernel_2395608/2221030542.py:8: TqdmDeprecationWarning: This function will be removed in tqdm==5.0.0\n",
      "Please use `tqdm.notebook.tqdm` instead of `tqdm.tqdm_notebook`\n",
      "  for batch_X, batch_y, batch_X_repo, idx in tqdm.tqdm_notebook(loader):\n"
     ]
    },
    {
     "data": {
      "application/vnd.jupyter.widget-view+json": {
       "model_id": "4b4664a4ad414525a6a41469ef37908d",
       "version_major": 2,
       "version_minor": 0
      },
      "text/plain": [
       "  0%|          | 0/252 [00:00<?, ?it/s]"
      ]
     },
     "metadata": {},
     "output_type": "display_data"
    },
    {
     "name": "stdout",
     "output_type": "stream",
     "text": [
      "Epoch [94/100], Loss: 0.0665, Accuracy: 0.9773\n",
      "Validation Loss: 0.9339, Validation Accuracy: 0.8284\n"
     ]
    },
    {
     "name": "stderr",
     "output_type": "stream",
     "text": [
      "/tmp/ipykernel_2395608/2221030542.py:8: TqdmDeprecationWarning: This function will be removed in tqdm==5.0.0\n",
      "Please use `tqdm.notebook.tqdm` instead of `tqdm.tqdm_notebook`\n",
      "  for batch_X, batch_y, batch_X_repo, idx in tqdm.tqdm_notebook(loader):\n"
     ]
    },
    {
     "data": {
      "application/vnd.jupyter.widget-view+json": {
       "model_id": "ed729344a31e4e379bdd49ffaa5dbd02",
       "version_major": 2,
       "version_minor": 0
      },
      "text/plain": [
       "  0%|          | 0/252 [00:00<?, ?it/s]"
      ]
     },
     "metadata": {},
     "output_type": "display_data"
    },
    {
     "name": "stdout",
     "output_type": "stream",
     "text": [
      "Epoch [95/100], Loss: 0.0646, Accuracy: 0.9776\n",
      "Validation Loss: 0.9746, Validation Accuracy: 0.8304\n"
     ]
    },
    {
     "name": "stderr",
     "output_type": "stream",
     "text": [
      "/tmp/ipykernel_2395608/2221030542.py:8: TqdmDeprecationWarning: This function will be removed in tqdm==5.0.0\n",
      "Please use `tqdm.notebook.tqdm` instead of `tqdm.tqdm_notebook`\n",
      "  for batch_X, batch_y, batch_X_repo, idx in tqdm.tqdm_notebook(loader):\n"
     ]
    },
    {
     "data": {
      "application/vnd.jupyter.widget-view+json": {
       "model_id": "adcff25612144e828382b287312a1990",
       "version_major": 2,
       "version_minor": 0
      },
      "text/plain": [
       "  0%|          | 0/252 [00:00<?, ?it/s]"
      ]
     },
     "metadata": {},
     "output_type": "display_data"
    },
    {
     "name": "stdout",
     "output_type": "stream",
     "text": [
      "Epoch [96/100], Loss: 0.0511, Accuracy: 0.9809\n",
      "Validation Loss: 0.9512, Validation Accuracy: 0.8285\n"
     ]
    },
    {
     "name": "stderr",
     "output_type": "stream",
     "text": [
      "/tmp/ipykernel_2395608/2221030542.py:8: TqdmDeprecationWarning: This function will be removed in tqdm==5.0.0\n",
      "Please use `tqdm.notebook.tqdm` instead of `tqdm.tqdm_notebook`\n",
      "  for batch_X, batch_y, batch_X_repo, idx in tqdm.tqdm_notebook(loader):\n"
     ]
    },
    {
     "data": {
      "application/vnd.jupyter.widget-view+json": {
       "model_id": "94cd8f79679843c3904bbbea729e0025",
       "version_major": 2,
       "version_minor": 0
      },
      "text/plain": [
       "  0%|          | 0/252 [00:00<?, ?it/s]"
      ]
     },
     "metadata": {},
     "output_type": "display_data"
    },
    {
     "name": "stdout",
     "output_type": "stream",
     "text": [
      "Epoch [97/100], Loss: 0.0632, Accuracy: 0.9787\n",
      "Validation Loss: 0.8922, Validation Accuracy: 0.8277\n"
     ]
    },
    {
     "name": "stderr",
     "output_type": "stream",
     "text": [
      "/tmp/ipykernel_2395608/2221030542.py:8: TqdmDeprecationWarning: This function will be removed in tqdm==5.0.0\n",
      "Please use `tqdm.notebook.tqdm` instead of `tqdm.tqdm_notebook`\n",
      "  for batch_X, batch_y, batch_X_repo, idx in tqdm.tqdm_notebook(loader):\n"
     ]
    },
    {
     "data": {
      "application/vnd.jupyter.widget-view+json": {
       "model_id": "3a22643ff6c5481795b2f1444ff1cff6",
       "version_major": 2,
       "version_minor": 0
      },
      "text/plain": [
       "  0%|          | 0/252 [00:00<?, ?it/s]"
      ]
     },
     "metadata": {},
     "output_type": "display_data"
    },
    {
     "name": "stdout",
     "output_type": "stream",
     "text": [
      "Epoch [98/100], Loss: 0.0677, Accuracy: 0.9776\n",
      "Validation Loss: 0.9428, Validation Accuracy: 0.8257\n"
     ]
    },
    {
     "name": "stderr",
     "output_type": "stream",
     "text": [
      "/tmp/ipykernel_2395608/2221030542.py:8: TqdmDeprecationWarning: This function will be removed in tqdm==5.0.0\n",
      "Please use `tqdm.notebook.tqdm` instead of `tqdm.tqdm_notebook`\n",
      "  for batch_X, batch_y, batch_X_repo, idx in tqdm.tqdm_notebook(loader):\n"
     ]
    },
    {
     "data": {
      "application/vnd.jupyter.widget-view+json": {
       "model_id": "8a46fc769e95441d9d64c02e3d2a338a",
       "version_major": 2,
       "version_minor": 0
      },
      "text/plain": [
       "  0%|          | 0/252 [00:00<?, ?it/s]"
      ]
     },
     "metadata": {},
     "output_type": "display_data"
    },
    {
     "name": "stdout",
     "output_type": "stream",
     "text": [
      "Epoch [99/100], Loss: 0.0505, Accuracy: 0.9817\n",
      "Validation Loss: 0.9011, Validation Accuracy: 0.8244\n"
     ]
    },
    {
     "name": "stderr",
     "output_type": "stream",
     "text": [
      "/tmp/ipykernel_2395608/2221030542.py:8: TqdmDeprecationWarning: This function will be removed in tqdm==5.0.0\n",
      "Please use `tqdm.notebook.tqdm` instead of `tqdm.tqdm_notebook`\n",
      "  for batch_X, batch_y, batch_X_repo, idx in tqdm.tqdm_notebook(loader):\n"
     ]
    },
    {
     "data": {
      "application/vnd.jupyter.widget-view+json": {
       "model_id": "06dffcd2401d45fb98c0a843d094b3d8",
       "version_major": 2,
       "version_minor": 0
      },
      "text/plain": [
       "  0%|          | 0/252 [00:00<?, ?it/s]"
      ]
     },
     "metadata": {},
     "output_type": "display_data"
    },
    {
     "name": "stdout",
     "output_type": "stream",
     "text": [
      "Epoch [100/100], Loss: 0.0649, Accuracy: 0.9792\n",
      "Validation Loss: 0.8469, Validation Accuracy: 0.8272\n"
     ]
    }
   ],
   "source": [
    "import copy\n",
    "import tqdm\n",
    "\n",
    "# Train the model\n",
    "\n",
    "# Initialize variables to track the best model and best accuracy\n",
    "best_accuracy = 0.0\n",
    "\n",
    "num_epochs = 100\n",
    "\n",
    "for epoch in tqdm.tqdm_notebook(range(num_epochs)):\n",
    "    model.train()  # Set the model to training mode\n",
    "    \n",
    "    # Print average loss and accuracy for the epoch\n",
    "    avg_loss,avg_accuracy = train_with_data_loader(model= model,loader= train_loader)\n",
    "    print(f'Epoch [{epoch+1}/{num_epochs}], Loss: {avg_loss:.4f}, Accuracy: {avg_accuracy:.4f}')\n",
    "\n",
    "    # Evaluate on validation data\n",
    "    model.eval()  # Set the model to evaluation mode\n",
    "    \n",
    "    with torch.no_grad():  # Disable gradient computation for validation\n",
    "        val_loss,val_accuracy = evaluate_with_data_loader(model=model,loader=val_loader)\n",
    "        print(f'Validation Loss: {val_loss:.4f}, Validation Accuracy: {val_accuracy:.4f}')\n",
    "    \n",
    "    # Check if the current model has the best validation accuracy\n",
    "    if val_accuracy > best_accuracy:\n",
    "        best_accuracy = val_accuracy\n",
    "        torch.save(model.state_dict(), model_directory)\n",
    "    \n",
    "\n"
   ]
  },
  {
   "cell_type": "code",
   "execution_count": 53,
   "id": "72d46d49",
   "metadata": {},
   "outputs": [
    {
     "data": {
      "text/plain": [
       "<All keys matched successfully>"
      ]
     },
     "execution_count": 53,
     "metadata": {},
     "output_type": "execute_result"
    }
   ],
   "source": [
    "# Load model from file\n",
    "model = CodeDiffNN(code_embedding_dim, repo_input_size, hidden_sizes_embedding_pipeline,hidden_sizes_reponame_pipeline, hidden_sizes_merged_pipeline, output_size, dropout_rate).to(device)\n",
    "model.load_state_dict(torch.load(model_directory))"
   ]
  },
  {
   "cell_type": "code",
   "execution_count": 56,
   "id": "e9425ae9-1059-497b-acbd-8ada7045cb18",
   "metadata": {},
   "outputs": [
    {
     "name": "stdout",
     "output_type": "stream",
     "text": [
      "Accuracy on test data: 0.8301\n",
      "torch.Size([6885, 3])\n"
     ]
    }
   ],
   "source": [
    "with torch.no_grad():\n",
    "    # Load best model from previous training cycle\n",
    "\n",
    "    model.eval()\n",
    "    test_loss,test_accuracy,test_outputs,y_test = test_with_data_loader(model=model,loader=test_loader)\n",
    "    \n",
    "    print(f'Accuracy on test data: {test_accuracy:.4f}')\n",
    "    print(test_outputs.shape)"
   ]
  },
  {
   "cell_type": "code",
   "execution_count": 58,
   "id": "11652d16-45d5-43bd-807b-7c13936f15f9",
   "metadata": {},
   "outputs": [
    {
     "data": {
      "image/png": "[encoded data removed]",
      "text/plain": [
       "<Figure size 640x480 with 2 Axes>"
      ]
     },
     "metadata": {},
     "output_type": "display_data"
    },
    {
     "name": "stdout",
     "output_type": "stream",
     "text": [
      "[1 1 1 ... 2 1 2]\n",
      "[1 1 1 ... 0 1 2]\n"
     ]
    }
   ],
   "source": [
    "from sklearn.metrics import confusion_matrix, ConfusionMatrixDisplay\n",
    "import matplotlib.pyplot as plt\n",
    "\n",
    "_, predicted = torch.max(test_outputs.detach().cpu(), 1)  # Get the index of the max log-probability\n",
    "labels_1d = torch.argmax(y_test, dim=1).cpu() # turn into 1D tensor\n",
    "\n",
    "# Convert to numpy arrays\n",
    "y_test_np = labels_1d.numpy()\n",
    "predicted_np = predicted.numpy()\n",
    "\n",
    "# Compute confusion matrix\n",
    "cm = confusion_matrix(y_test_np, predicted_np)\n",
    "disp = ConfusionMatrixDisplay(confusion_matrix=cm)\n",
    "disp.plot()\n",
    "plt.title('Confusion Matrix for Multi-Class Classification')\n",
    "plt.show()\n",
    "\n",
    "print(predicted_np)\n",
    "print(y_test_np)"
   ]
  },
  {
   "cell_type": "code",
   "execution_count": null,
   "id": "f4198a07",
   "metadata": {},
   "outputs": [],
   "source": [
    "import gc\n",
    "# Free up GPU memory (testing)\n",
    "print(f\"Cached GPU memory before: {torch.cuda.memory_reserved()} bytes\")\n",
    "del model\n",
    "del test_outputs\n",
    "del y_test\n",
    "del predicted\n",
    "del labels_1d\n",
    "del val_loader, test_loader, train_loader\n",
    "del cm\n",
    "gc.collect()\n",
    "torch.cuda.empty_cache()\n",
    "print(f\"Cached GPU memory after: {torch.cuda.memory_reserved()} bytes\")"
   ]
  },
  {
   "cell_type": "code",
   "execution_count": null,
   "id": "71907b6b",
   "metadata": {},
   "outputs": [],
   "source": []
  }
 ],
 "metadata": {
  "kernelspec": {
   "display_name": "Python 3 (ipykernel)",
   "language": "python",
   "name": "python3"
  },
  "language_info": {
   "codemirror_mode": {
    "name": "ipython",
    "version": 3
   },
   "file_extension": ".py",
   "mimetype": "text/x-python",
   "name": "python",
   "nbconvert_exporter": "python",
   "pygments_lexer": "ipython3",
   "version": "3.11.5"
  }
 },
 "nbformat": 4,
 "nbformat_minor": 5
}
